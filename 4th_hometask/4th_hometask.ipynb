{
 "cells": [
  {
   "cell_type": "markdown",
   "id": "b3f20b48",
   "metadata": {},
   "source": [
    "# 4th_hometask"
   ]
  },
  {
   "cell_type": "markdown",
   "id": "67a0e8f5",
   "metadata": {},
   "source": [
    "Домашнее задание по занятию.\n",
    "\n",
    "Датасет содержит данные по телефонным звонкам банка, и нужно определить - согласится клиент на дальнейшее сотрудничество или нет.\n",
    "\n",
    "Аккумулируйте то, что мы рассматривали на всех занятиях. Проведите анализ и предобработку данных.\n",
    "\n",
    "Расписывайте свои наблюдения и гипотезы. Обучите модель логистической регрессии.\n",
    "\n",
    "\n",
    "Описание датасета:\n",
    "1 - age (numeric)\n",
    "\n",
    "2 - job : type of job (categorical: 'admin.','blue-collar','entrepreneur','housemaid','management','retired','self-employed','services','student','technician','unemployed','unknown')\n",
    "\n",
    "3 - marital : marital status (categorical: 'divorced','married','single','unknown'; note: 'divorced' means divorced or widowed)\n",
    "\n",
    "4 - education (categorical: 'basic.4y','basic.6y','basic.9y','high.school','illiterate','professional.course','university.degree','unknown')\n",
    "\n",
    "5 - default: has credit in default? (categorical: 'no','yes','unknown')\n",
    "\n",
    "6 - housing: has housing loan? (categorical: 'no','yes','unknown')\n",
    "\n",
    "7 - loan: has personal loan? (categorical: 'no','yes','unknown')\n",
    "\n",
    "related with the last contact of the current campaign:\n",
    "\n",
    "8 - contact: contact communication type (categorical: 'cellular','telephone')\n",
    "\n",
    "9 - month: last contact month of year (categorical: 'jan', 'feb', 'mar', …, 'nov', 'dec')\n",
    "\n",
    "10 - dayofweek: last contact day of the week (categorical: 'mon','tue','wed','thu','fri')\n",
    "\n",
    "other attributes:\n",
    "\n",
    "11 - campaign: number of contacts performed during this campaign and for this client (numeric, includes last contact)\n",
    "\n",
    "12 - pdays: number of days that passed by after the client was last contacted from a previous campaign (numeric; 999 means \n",
    "client was not previously contacted)\n",
    "\n",
    "13 - previous: number of contacts performed before this campaign and for this client (numeric)\n",
    "\n",
    "14 - poutcome: outcome of the previous marketing campaign (categorical: 'failure','nonexistent','success')\n",
    "\n",
    "social and economic context attributes:\n",
    "\n",
    "15 - emp.var.rate: employment variation rate - quarterly indicator (numeric)\n",
    "\n",
    "16 - cons.price.idx: consumer price index - monthly indicator (numeric)\n",
    "\n",
    "17 - cons.conf.idx: consumer confidence index - monthly indicator (numeric)\n",
    "\n",
    "18 - euribor3m: euribor 3 month rate - daily indicator (numeric)\n",
    "\n",
    "19 - nr.employed: number of employees - quarterly indicator (numeric)\n",
    "\n",
    "Output variable (desired target):\n",
    "\n",
    "20 - y - has the client subscribed a term deposit? (binary: 'yes','no')"
   ]
  },
  {
   "cell_type": "markdown",
   "id": "1323ab46",
   "metadata": {},
   "source": [
    "### Import Section"
   ]
  },
  {
   "cell_type": "code",
   "execution_count": 1,
   "id": "c46163ca",
   "metadata": {},
   "outputs": [],
   "source": [
    "import numpy as np\n",
    "import pandas as pd\n",
    "\n",
    "from sklearn.preprocessing import OneHotEncoder\n",
    "from sklearn.preprocessing import StandardScaler\n",
    "\n",
    "from sklearn.linear_model import LogisticRegression\n",
    "\n",
    "from sklearn.metrics import classification_report"
   ]
  },
  {
   "cell_type": "markdown",
   "id": "37ad9fb4",
   "metadata": {},
   "source": [
    "### Function \"Reduce Memory Usage\""
   ]
  },
  {
   "cell_type": "code",
   "execution_count": 2,
   "id": "d58608fa",
   "metadata": {},
   "outputs": [],
   "source": [
    "def reduce_memory_usage(df):\n",
    "    \n",
    "    # СДЕЛАТЬ ПРОВЕРКУ type(df) == pd.DataFrame\n",
    "    \n",
    "    initial_memory_usage = df.memory_usage().sum() / 1024 / 1024\n",
    "    print(f'Initial memory usage of dataframe:\\t{initial_memory_usage:.3} Mb')\n",
    "    \n",
    "    for col in df.columns:\n",
    "        col_type = df[col].dtype\n",
    "        \n",
    "        if col_type != 'object':\n",
    "            c_min = df[col].min()\n",
    "            c_max = df[col].max()\n",
    "            \n",
    "            if str(col_type)[:3] == 'int':\n",
    "                if c_min > np.iinfo(np.int8).min and c_max < np.iinfo(np.int8).max:\n",
    "                    df[col] = df[col].astype(np.int8)\n",
    "                elif c_min > np.iinfo(np.int16).min and c_max < np.iinfo(np.int16).max:\n",
    "                    df[col] = df[col].astype(np.int16)\n",
    "                elif c_min > np.iinfo(np.int32).min and c_max < np.iinfo(np.int32).max:\n",
    "                    df[col] = df[col].astype(np.int32)\n",
    "                elif c_min > np.iinfo(np.int64).min and c_max < np.iinfo(np.int64).max:\n",
    "                    df[col] = df[col].astype(np.int64)\n",
    "            \n",
    "            # Можно было бы сделать оптимизацию вплоть до типа \"float16\", однако данный тип данных,\n",
    "            # как сообщается от сообщества аналитиков данных, плохо поддерживается некоторыми библиотеками\n",
    "            \n",
    "            if str(col_type)[:5] == 'float':\n",
    "                if c_min > np.finfo(np.float32).min and c_max < np.finfo(np.float32).max:\n",
    "                    df[col] = df[col].astype(np.float32)\n",
    "                elif c_min > np.finfo(np.float64).min and c_max < np.finfo(np.float64).max:\n",
    "                    df[col] = df[col].astype(np.float64)\n",
    "        \n",
    "        else:\n",
    "            df[col] = df[col].astype('category')\n",
    "    \n",
    "    final_memory_usage = df.memory_usage().sum() / 1024 / 1024\n",
    "    print(f'Final memory usage of dataframe:\\t{final_memory_usage:.3} Mb')\n",
    "    \n",
    "    comparison = np.round(100 * (initial_memory_usage - final_memory_usage) / initial_memory_usage, 3)\n",
    "    print(f'Memory usage has been decreased by:\\t{comparison} %')\n",
    "    \n",
    "    return df"
   ]
  },
  {
   "cell_type": "markdown",
   "id": "44893f59",
   "metadata": {},
   "source": [
    "### Path Section"
   ]
  },
  {
   "cell_type": "code",
   "execution_count": 3,
   "id": "5a5b2089",
   "metadata": {},
   "outputs": [],
   "source": [
    "PATH_DATA = r'bank-direct-marketing-campaigns.csv'"
   ]
  },
  {
   "cell_type": "markdown",
   "id": "a7f16d37",
   "metadata": {},
   "source": [
    "## Exploratory Data Analysis"
   ]
  },
  {
   "cell_type": "code",
   "execution_count": 4,
   "id": "4d95c4b0",
   "metadata": {},
   "outputs": [],
   "source": [
    "df_data = pd.read_csv(PATH_DATA)"
   ]
  },
  {
   "cell_type": "code",
   "execution_count": 5,
   "id": "d2c5f798",
   "metadata": {},
   "outputs": [],
   "source": [
    "df_data = df_data.drop_duplicates().copy()"
   ]
  },
  {
   "cell_type": "code",
   "execution_count": 6,
   "id": "eff0b060",
   "metadata": {},
   "outputs": [
    {
     "data": {
      "text/html": [
       "<div>\n",
       "<style scoped>\n",
       "    .dataframe tbody tr th:only-of-type {\n",
       "        vertical-align: middle;\n",
       "    }\n",
       "\n",
       "    .dataframe tbody tr th {\n",
       "        vertical-align: top;\n",
       "    }\n",
       "\n",
       "    .dataframe thead th {\n",
       "        text-align: right;\n",
       "    }\n",
       "</style>\n",
       "<table border=\"1\" class=\"dataframe\">\n",
       "  <thead>\n",
       "    <tr style=\"text-align: right;\">\n",
       "      <th></th>\n",
       "      <th>age</th>\n",
       "      <th>job</th>\n",
       "      <th>marital</th>\n",
       "      <th>education</th>\n",
       "      <th>default</th>\n",
       "      <th>housing</th>\n",
       "      <th>loan</th>\n",
       "      <th>contact</th>\n",
       "      <th>month</th>\n",
       "      <th>day_of_week</th>\n",
       "      <th>campaign</th>\n",
       "      <th>pdays</th>\n",
       "      <th>previous</th>\n",
       "      <th>poutcome</th>\n",
       "      <th>emp.var.rate</th>\n",
       "      <th>cons.price.idx</th>\n",
       "      <th>cons.conf.idx</th>\n",
       "      <th>euribor3m</th>\n",
       "      <th>nr.employed</th>\n",
       "      <th>y</th>\n",
       "    </tr>\n",
       "  </thead>\n",
       "  <tbody>\n",
       "    <tr>\n",
       "      <th>0</th>\n",
       "      <td>56</td>\n",
       "      <td>housemaid</td>\n",
       "      <td>married</td>\n",
       "      <td>basic.4y</td>\n",
       "      <td>no</td>\n",
       "      <td>no</td>\n",
       "      <td>no</td>\n",
       "      <td>telephone</td>\n",
       "      <td>may</td>\n",
       "      <td>mon</td>\n",
       "      <td>1</td>\n",
       "      <td>999</td>\n",
       "      <td>0</td>\n",
       "      <td>nonexistent</td>\n",
       "      <td>1.1</td>\n",
       "      <td>93.994</td>\n",
       "      <td>-36.4</td>\n",
       "      <td>4.857</td>\n",
       "      <td>5191.0</td>\n",
       "      <td>no</td>\n",
       "    </tr>\n",
       "    <tr>\n",
       "      <th>1</th>\n",
       "      <td>57</td>\n",
       "      <td>services</td>\n",
       "      <td>married</td>\n",
       "      <td>high.school</td>\n",
       "      <td>unknown</td>\n",
       "      <td>no</td>\n",
       "      <td>no</td>\n",
       "      <td>telephone</td>\n",
       "      <td>may</td>\n",
       "      <td>mon</td>\n",
       "      <td>1</td>\n",
       "      <td>999</td>\n",
       "      <td>0</td>\n",
       "      <td>nonexistent</td>\n",
       "      <td>1.1</td>\n",
       "      <td>93.994</td>\n",
       "      <td>-36.4</td>\n",
       "      <td>4.857</td>\n",
       "      <td>5191.0</td>\n",
       "      <td>no</td>\n",
       "    </tr>\n",
       "    <tr>\n",
       "      <th>2</th>\n",
       "      <td>37</td>\n",
       "      <td>services</td>\n",
       "      <td>married</td>\n",
       "      <td>high.school</td>\n",
       "      <td>no</td>\n",
       "      <td>yes</td>\n",
       "      <td>no</td>\n",
       "      <td>telephone</td>\n",
       "      <td>may</td>\n",
       "      <td>mon</td>\n",
       "      <td>1</td>\n",
       "      <td>999</td>\n",
       "      <td>0</td>\n",
       "      <td>nonexistent</td>\n",
       "      <td>1.1</td>\n",
       "      <td>93.994</td>\n",
       "      <td>-36.4</td>\n",
       "      <td>4.857</td>\n",
       "      <td>5191.0</td>\n",
       "      <td>no</td>\n",
       "    </tr>\n",
       "    <tr>\n",
       "      <th>3</th>\n",
       "      <td>40</td>\n",
       "      <td>admin.</td>\n",
       "      <td>married</td>\n",
       "      <td>basic.6y</td>\n",
       "      <td>no</td>\n",
       "      <td>no</td>\n",
       "      <td>no</td>\n",
       "      <td>telephone</td>\n",
       "      <td>may</td>\n",
       "      <td>mon</td>\n",
       "      <td>1</td>\n",
       "      <td>999</td>\n",
       "      <td>0</td>\n",
       "      <td>nonexistent</td>\n",
       "      <td>1.1</td>\n",
       "      <td>93.994</td>\n",
       "      <td>-36.4</td>\n",
       "      <td>4.857</td>\n",
       "      <td>5191.0</td>\n",
       "      <td>no</td>\n",
       "    </tr>\n",
       "    <tr>\n",
       "      <th>4</th>\n",
       "      <td>56</td>\n",
       "      <td>services</td>\n",
       "      <td>married</td>\n",
       "      <td>high.school</td>\n",
       "      <td>no</td>\n",
       "      <td>no</td>\n",
       "      <td>yes</td>\n",
       "      <td>telephone</td>\n",
       "      <td>may</td>\n",
       "      <td>mon</td>\n",
       "      <td>1</td>\n",
       "      <td>999</td>\n",
       "      <td>0</td>\n",
       "      <td>nonexistent</td>\n",
       "      <td>1.1</td>\n",
       "      <td>93.994</td>\n",
       "      <td>-36.4</td>\n",
       "      <td>4.857</td>\n",
       "      <td>5191.0</td>\n",
       "      <td>no</td>\n",
       "    </tr>\n",
       "  </tbody>\n",
       "</table>\n",
       "</div>"
      ],
      "text/plain": [
       "   age        job  marital    education  default housing loan    contact  \\\n",
       "0   56  housemaid  married     basic.4y       no      no   no  telephone   \n",
       "1   57   services  married  high.school  unknown      no   no  telephone   \n",
       "2   37   services  married  high.school       no     yes   no  telephone   \n",
       "3   40     admin.  married     basic.6y       no      no   no  telephone   \n",
       "4   56   services  married  high.school       no      no  yes  telephone   \n",
       "\n",
       "  month day_of_week  campaign  pdays  previous     poutcome  emp.var.rate  \\\n",
       "0   may         mon         1    999         0  nonexistent           1.1   \n",
       "1   may         mon         1    999         0  nonexistent           1.1   \n",
       "2   may         mon         1    999         0  nonexistent           1.1   \n",
       "3   may         mon         1    999         0  nonexistent           1.1   \n",
       "4   may         mon         1    999         0  nonexistent           1.1   \n",
       "\n",
       "   cons.price.idx  cons.conf.idx  euribor3m  nr.employed   y  \n",
       "0          93.994          -36.4      4.857       5191.0  no  \n",
       "1          93.994          -36.4      4.857       5191.0  no  \n",
       "2          93.994          -36.4      4.857       5191.0  no  \n",
       "3          93.994          -36.4      4.857       5191.0  no  \n",
       "4          93.994          -36.4      4.857       5191.0  no  "
      ]
     },
     "execution_count": 6,
     "metadata": {},
     "output_type": "execute_result"
    }
   ],
   "source": [
    "df_data.head()"
   ]
  },
  {
   "cell_type": "code",
   "execution_count": 7,
   "id": "78c47954",
   "metadata": {},
   "outputs": [
    {
     "name": "stdout",
     "output_type": "stream",
     "text": [
      "<class 'pandas.core.frame.DataFrame'>\n",
      "Int64Index: 39404 entries, 0 to 41187\n",
      "Data columns (total 20 columns):\n",
      " #   Column          Non-Null Count  Dtype  \n",
      "---  ------          --------------  -----  \n",
      " 0   age             39404 non-null  int64  \n",
      " 1   job             39404 non-null  object \n",
      " 2   marital         39404 non-null  object \n",
      " 3   education       39404 non-null  object \n",
      " 4   default         39404 non-null  object \n",
      " 5   housing         39404 non-null  object \n",
      " 6   loan            39404 non-null  object \n",
      " 7   contact         39404 non-null  object \n",
      " 8   month           39404 non-null  object \n",
      " 9   day_of_week     39404 non-null  object \n",
      " 10  campaign        39404 non-null  int64  \n",
      " 11  pdays           39404 non-null  int64  \n",
      " 12  previous        39404 non-null  int64  \n",
      " 13  poutcome        39404 non-null  object \n",
      " 14  emp.var.rate    39404 non-null  float64\n",
      " 15  cons.price.idx  39404 non-null  float64\n",
      " 16  cons.conf.idx   39404 non-null  float64\n",
      " 17  euribor3m       39404 non-null  float64\n",
      " 18  nr.employed     39404 non-null  float64\n",
      " 19  y               39404 non-null  object \n",
      "dtypes: float64(5), int64(4), object(11)\n",
      "memory usage: 6.3+ MB\n"
     ]
    }
   ],
   "source": [
    "df_data.info()"
   ]
  },
  {
   "cell_type": "code",
   "execution_count": 8,
   "id": "060235a6",
   "metadata": {},
   "outputs": [
    {
     "data": {
      "text/html": [
       "<div>\n",
       "<style scoped>\n",
       "    .dataframe tbody tr th:only-of-type {\n",
       "        vertical-align: middle;\n",
       "    }\n",
       "\n",
       "    .dataframe tbody tr th {\n",
       "        vertical-align: top;\n",
       "    }\n",
       "\n",
       "    .dataframe thead th {\n",
       "        text-align: right;\n",
       "    }\n",
       "</style>\n",
       "<table border=\"1\" class=\"dataframe\">\n",
       "  <thead>\n",
       "    <tr style=\"text-align: right;\">\n",
       "      <th></th>\n",
       "      <th>age</th>\n",
       "      <th>campaign</th>\n",
       "      <th>pdays</th>\n",
       "      <th>previous</th>\n",
       "      <th>emp.var.rate</th>\n",
       "      <th>cons.price.idx</th>\n",
       "      <th>cons.conf.idx</th>\n",
       "      <th>euribor3m</th>\n",
       "      <th>nr.employed</th>\n",
       "    </tr>\n",
       "  </thead>\n",
       "  <tbody>\n",
       "    <tr>\n",
       "      <th>count</th>\n",
       "      <td>39404.000000</td>\n",
       "      <td>39404.000000</td>\n",
       "      <td>39404.000000</td>\n",
       "      <td>39404.000000</td>\n",
       "      <td>39404.000000</td>\n",
       "      <td>39404.000000</td>\n",
       "      <td>39404.000000</td>\n",
       "      <td>39404.000000</td>\n",
       "      <td>39404.000000</td>\n",
       "    </tr>\n",
       "    <tr>\n",
       "      <th>mean</th>\n",
       "      <td>40.116105</td>\n",
       "      <td>2.618744</td>\n",
       "      <td>960.847097</td>\n",
       "      <td>0.178738</td>\n",
       "      <td>0.064067</td>\n",
       "      <td>93.577538</td>\n",
       "      <td>-40.499604</td>\n",
       "      <td>3.601243</td>\n",
       "      <td>5165.986481</td>\n",
       "    </tr>\n",
       "    <tr>\n",
       "      <th>std</th>\n",
       "      <td>10.460328</td>\n",
       "      <td>2.814780</td>\n",
       "      <td>190.869184</td>\n",
       "      <td>0.503172</td>\n",
       "      <td>1.577041</td>\n",
       "      <td>0.583820</td>\n",
       "      <td>4.644327</td>\n",
       "      <td>1.742337</td>\n",
       "      <td>72.763866</td>\n",
       "    </tr>\n",
       "    <tr>\n",
       "      <th>min</th>\n",
       "      <td>17.000000</td>\n",
       "      <td>1.000000</td>\n",
       "      <td>0.000000</td>\n",
       "      <td>0.000000</td>\n",
       "      <td>-3.400000</td>\n",
       "      <td>92.201000</td>\n",
       "      <td>-50.800000</td>\n",
       "      <td>0.634000</td>\n",
       "      <td>4963.600000</td>\n",
       "    </tr>\n",
       "    <tr>\n",
       "      <th>25%</th>\n",
       "      <td>32.000000</td>\n",
       "      <td>1.000000</td>\n",
       "      <td>999.000000</td>\n",
       "      <td>0.000000</td>\n",
       "      <td>-1.800000</td>\n",
       "      <td>93.075000</td>\n",
       "      <td>-42.700000</td>\n",
       "      <td>1.334000</td>\n",
       "      <td>5099.100000</td>\n",
       "    </tr>\n",
       "    <tr>\n",
       "      <th>50%</th>\n",
       "      <td>38.000000</td>\n",
       "      <td>2.000000</td>\n",
       "      <td>999.000000</td>\n",
       "      <td>0.000000</td>\n",
       "      <td>1.100000</td>\n",
       "      <td>93.798000</td>\n",
       "      <td>-41.800000</td>\n",
       "      <td>4.857000</td>\n",
       "      <td>5191.000000</td>\n",
       "    </tr>\n",
       "    <tr>\n",
       "      <th>75%</th>\n",
       "      <td>47.000000</td>\n",
       "      <td>3.000000</td>\n",
       "      <td>999.000000</td>\n",
       "      <td>0.000000</td>\n",
       "      <td>1.400000</td>\n",
       "      <td>93.994000</td>\n",
       "      <td>-36.400000</td>\n",
       "      <td>4.961000</td>\n",
       "      <td>5228.100000</td>\n",
       "    </tr>\n",
       "    <tr>\n",
       "      <th>max</th>\n",
       "      <td>98.000000</td>\n",
       "      <td>56.000000</td>\n",
       "      <td>999.000000</td>\n",
       "      <td>7.000000</td>\n",
       "      <td>1.400000</td>\n",
       "      <td>94.767000</td>\n",
       "      <td>-26.900000</td>\n",
       "      <td>5.045000</td>\n",
       "      <td>5228.100000</td>\n",
       "    </tr>\n",
       "  </tbody>\n",
       "</table>\n",
       "</div>"
      ],
      "text/plain": [
       "                age      campaign         pdays      previous  emp.var.rate  \\\n",
       "count  39404.000000  39404.000000  39404.000000  39404.000000  39404.000000   \n",
       "mean      40.116105      2.618744    960.847097      0.178738      0.064067   \n",
       "std       10.460328      2.814780    190.869184      0.503172      1.577041   \n",
       "min       17.000000      1.000000      0.000000      0.000000     -3.400000   \n",
       "25%       32.000000      1.000000    999.000000      0.000000     -1.800000   \n",
       "50%       38.000000      2.000000    999.000000      0.000000      1.100000   \n",
       "75%       47.000000      3.000000    999.000000      0.000000      1.400000   \n",
       "max       98.000000     56.000000    999.000000      7.000000      1.400000   \n",
       "\n",
       "       cons.price.idx  cons.conf.idx     euribor3m   nr.employed  \n",
       "count    39404.000000   39404.000000  39404.000000  39404.000000  \n",
       "mean        93.577538     -40.499604      3.601243   5165.986481  \n",
       "std          0.583820       4.644327      1.742337     72.763866  \n",
       "min         92.201000     -50.800000      0.634000   4963.600000  \n",
       "25%         93.075000     -42.700000      1.334000   5099.100000  \n",
       "50%         93.798000     -41.800000      4.857000   5191.000000  \n",
       "75%         93.994000     -36.400000      4.961000   5228.100000  \n",
       "max         94.767000     -26.900000      5.045000   5228.100000  "
      ]
     },
     "execution_count": 8,
     "metadata": {},
     "output_type": "execute_result"
    }
   ],
   "source": [
    "df_data.describe()"
   ]
  },
  {
   "cell_type": "markdown",
   "id": "91986d1b",
   "metadata": {},
   "source": [
    "## Data Preprocessing"
   ]
  },
  {
   "cell_type": "markdown",
   "id": "50a4262c",
   "metadata": {},
   "source": [
    "##### Для дальнейшего обучения модели выберем наиболее важные признаки:\n",
    "##### - признаки описывающие личность клиента;\n",
    "##### - признаки с финансовой/банковской информацией;\n",
    "##### - признаки, значения которых имеют сильный контраст значений (по этому условию можно отсеять признаки \"month\" и \"day_of_week\" значения которых распределены равномерно)."
   ]
  },
  {
   "cell_type": "code",
   "execution_count": 9,
   "id": "7e7b817c",
   "metadata": {},
   "outputs": [],
   "source": [
    "features = ['age', 'job', 'marital', 'education', 'default', 'loan', 'campaign', 'pdays', 'previous', 'emp.var.rate',\n",
    "            'cons.price.idx', 'cons.conf.idx', 'euribor3m', 'nr.employed', 'poutcome', 'y']\n",
    "df_data_preprocessed = df_data[features].copy()"
   ]
  },
  {
   "cell_type": "code",
   "execution_count": 10,
   "id": "9d72eb5b",
   "metadata": {},
   "outputs": [],
   "source": [
    "df_data_preprocessed['y'] = (df_data_preprocessed['y'] == 'yes').astype(int)"
   ]
  },
  {
   "cell_type": "code",
   "execution_count": 11,
   "id": "4bfa0d08",
   "metadata": {},
   "outputs": [],
   "source": [
    "ohe_job = OneHotEncoder()\n",
    "\n",
    "df_job = ohe_job.fit_transform(df_data_preprocessed[['job']])\n",
    "df_job = pd.DataFrame(df_job.toarray(), columns=ohe_job.categories_[0])\n",
    "df_job.index = df_data_preprocessed.index\n",
    "df_job = df_job.drop(columns=['unknown']).copy()\n",
    "\n",
    "df_data_preprocessed = df_data_preprocessed.join(df_job)\n",
    "df_data_preprocessed = df_data_preprocessed.drop(columns=['job']).copy()"
   ]
  },
  {
   "cell_type": "code",
   "execution_count": 12,
   "id": "a1bf9941",
   "metadata": {},
   "outputs": [],
   "source": [
    "ohe_marital = OneHotEncoder()\n",
    "\n",
    "df_marital = ohe_marital.fit_transform(df_data_preprocessed[['marital']])\n",
    "df_marital = pd.DataFrame(df_marital.toarray(), columns=ohe_marital.categories_[0])\n",
    "df_marital.index = df_data_preprocessed.index\n",
    "df_marital = df_marital.drop(columns=['unknown']).copy()\n",
    "\n",
    "df_data_preprocessed = df_data_preprocessed.join(df_marital)\n",
    "df_data_preprocessed = df_data_preprocessed.drop(columns=['marital']).copy()"
   ]
  },
  {
   "cell_type": "code",
   "execution_count": 13,
   "id": "da18cc57",
   "metadata": {},
   "outputs": [],
   "source": [
    "ohe_education = OneHotEncoder()\n",
    "\n",
    "df_education = ohe_education.fit_transform(df_data_preprocessed[['education']])\n",
    "df_education = pd.DataFrame(df_education.toarray(), columns=ohe_education.categories_[0])\n",
    "df_education.index = df_data_preprocessed.index\n",
    "df_education = df_education.drop(columns=['unknown']).copy()\n",
    "\n",
    "df_data_preprocessed = df_data_preprocessed.join(df_education)\n",
    "df_data_preprocessed = df_data_preprocessed.drop(columns=['education']).copy()"
   ]
  },
  {
   "cell_type": "code",
   "execution_count": 14,
   "id": "b4a4599e",
   "metadata": {},
   "outputs": [],
   "source": [
    "ohe_default = OneHotEncoder()\n",
    "\n",
    "df_default = ohe_default.fit_transform(df_data_preprocessed[['default']])\n",
    "df_default = pd.DataFrame(df_default.toarray(), columns=ohe_default.categories_[0])\n",
    "df_default.index = df_data_preprocessed.index\n",
    "df_default = df_default.drop(columns=['unknown']).copy()\n",
    "df_default = df_default.add_prefix('default_').copy()\n",
    "\n",
    "df_data_preprocessed = df_data_preprocessed.join(df_default)\n",
    "df_data_preprocessed = df_data_preprocessed.drop(columns=['default']).copy()"
   ]
  },
  {
   "cell_type": "code",
   "execution_count": 15,
   "id": "950b603c",
   "metadata": {},
   "outputs": [],
   "source": [
    "ohe_loan = OneHotEncoder()\n",
    "\n",
    "df_loan = ohe_loan.fit_transform(df_data_preprocessed[['loan']])\n",
    "df_loan = pd.DataFrame(df_loan.toarray(), columns=ohe_loan.categories_[0])\n",
    "df_loan.index = df_data_preprocessed.index\n",
    "df_loan = df_loan.drop(columns=['unknown']).copy()\n",
    "df_loan = df_loan.add_prefix('loan_').copy()\n",
    "\n",
    "df_data_preprocessed = df_data_preprocessed.join(df_loan)\n",
    "df_data_preprocessed = df_data_preprocessed.drop(columns=['loan']).copy()"
   ]
  },
  {
   "cell_type": "code",
   "execution_count": 16,
   "id": "c9171ce1",
   "metadata": {},
   "outputs": [],
   "source": [
    "ohe_poutcome = OneHotEncoder()\n",
    "\n",
    "df_poutcome = ohe_poutcome.fit_transform(df_data_preprocessed[['poutcome']])\n",
    "df_poutcome = pd.DataFrame(df_poutcome.toarray(), columns=ohe_poutcome.categories_[0])\n",
    "df_poutcome.index = df_data_preprocessed.index\n",
    "df_poutcome = df_poutcome.drop(columns=['nonexistent']).copy()\n",
    "\n",
    "df_data_preprocessed = df_data_preprocessed.join(df_poutcome)\n",
    "df_data_preprocessed = df_data_preprocessed.drop(columns=['poutcome']).copy()"
   ]
  },
  {
   "cell_type": "code",
   "execution_count": 17,
   "id": "13e6ae4e",
   "metadata": {
    "scrolled": false
   },
   "outputs": [
    {
     "name": "stdout",
     "output_type": "stream",
     "text": [
      "<class 'pandas.core.frame.DataFrame'>\n",
      "Int64Index: 39404 entries, 0 to 41187\n",
      "Data columns (total 37 columns):\n",
      " #   Column               Non-Null Count  Dtype  \n",
      "---  ------               --------------  -----  \n",
      " 0   age                  39404 non-null  int64  \n",
      " 1   campaign             39404 non-null  int64  \n",
      " 2   pdays                39404 non-null  int64  \n",
      " 3   previous             39404 non-null  int64  \n",
      " 4   emp.var.rate         39404 non-null  float64\n",
      " 5   cons.price.idx       39404 non-null  float64\n",
      " 6   cons.conf.idx        39404 non-null  float64\n",
      " 7   euribor3m            39404 non-null  float64\n",
      " 8   nr.employed          39404 non-null  float64\n",
      " 9   y                    39404 non-null  int32  \n",
      " 10  admin.               39404 non-null  float64\n",
      " 11  blue-collar          39404 non-null  float64\n",
      " 12  entrepreneur         39404 non-null  float64\n",
      " 13  housemaid            39404 non-null  float64\n",
      " 14  management           39404 non-null  float64\n",
      " 15  retired              39404 non-null  float64\n",
      " 16  self-employed        39404 non-null  float64\n",
      " 17  services             39404 non-null  float64\n",
      " 18  student              39404 non-null  float64\n",
      " 19  technician           39404 non-null  float64\n",
      " 20  unemployed           39404 non-null  float64\n",
      " 21  divorced             39404 non-null  float64\n",
      " 22  married              39404 non-null  float64\n",
      " 23  single               39404 non-null  float64\n",
      " 24  basic.4y             39404 non-null  float64\n",
      " 25  basic.6y             39404 non-null  float64\n",
      " 26  basic.9y             39404 non-null  float64\n",
      " 27  high.school          39404 non-null  float64\n",
      " 28  illiterate           39404 non-null  float64\n",
      " 29  professional.course  39404 non-null  float64\n",
      " 30  university.degree    39404 non-null  float64\n",
      " 31  default_no           39404 non-null  float64\n",
      " 32  default_yes          39404 non-null  float64\n",
      " 33  loan_no              39404 non-null  float64\n",
      " 34  loan_yes             39404 non-null  float64\n",
      " 35  failure              39404 non-null  float64\n",
      " 36  success              39404 non-null  float64\n",
      "dtypes: float64(32), int32(1), int64(4)\n",
      "memory usage: 12.3 MB\n"
     ]
    }
   ],
   "source": [
    "df_data_preprocessed.info()"
   ]
  },
  {
   "cell_type": "markdown",
   "id": "1a066da4",
   "metadata": {},
   "source": [
    "##### Рассмотрим признаки \"month\" и \"day_of_week\" отдельно подробнее:"
   ]
  },
  {
   "cell_type": "code",
   "execution_count": 18,
   "id": "9da6ac1d",
   "metadata": {},
   "outputs": [
    {
     "data": {
      "text/plain": [
       "may    882\n",
       "aug    651\n",
       "jul    645\n",
       "jun    554\n",
       "apr    532\n",
       "nov    411\n",
       "oct    312\n",
       "mar    268\n",
       "sep    255\n",
       "dec     88\n",
       "Name: month, dtype: int64"
      ]
     },
     "execution_count": 18,
     "metadata": {},
     "output_type": "execute_result"
    }
   ],
   "source": [
    "df_month = df_data[['month', 'y']].copy()\n",
    "series_month = df_month[df_month['y'] == 'yes']['month'].value_counts()\n",
    "series_month"
   ]
  },
  {
   "cell_type": "code",
   "execution_count": 19,
   "id": "769c922a",
   "metadata": {},
   "outputs": [
    {
     "data": {
      "text/plain": [
       "thu    1037\n",
       "tue     945\n",
       "wed     934\n",
       "mon     842\n",
       "fri     840\n",
       "Name: day_of_week, dtype: int64"
      ]
     },
     "execution_count": 19,
     "metadata": {},
     "output_type": "execute_result"
    }
   ],
   "source": [
    "df_day_of_week = df_data[['day_of_week', 'y']].copy()\n",
    "series_day_of_week = df_day_of_week[df_day_of_week['y'] == 'yes']['day_of_week'].value_counts()\n",
    "series_day_of_week"
   ]
  },
  {
   "cell_type": "markdown",
   "id": "32c7cee0",
   "metadata": {},
   "source": [
    "##### Очевидно, что значения признаков \"month\" и \"day_of_week\" окажут влияние на целевую переменную. Закодируем признаки как вероятности:"
   ]
  },
  {
   "cell_type": "code",
   "execution_count": 20,
   "id": "6906f9de",
   "metadata": {},
   "outputs": [
    {
     "data": {
      "text/plain": [
       "may    0.1918\n",
       "aug    0.1416\n",
       "jul    0.1403\n",
       "jun    0.1205\n",
       "apr    0.1157\n",
       "nov    0.0894\n",
       "oct    0.0679\n",
       "mar    0.0583\n",
       "sep    0.0555\n",
       "dec    0.0191\n",
       "Name: month, dtype: float64"
      ]
     },
     "execution_count": 20,
     "metadata": {},
     "output_type": "execute_result"
    }
   ],
   "source": [
    "series_month = np.round(series_month / series_month.sum(), 4)\n",
    "series_month"
   ]
  },
  {
   "cell_type": "code",
   "execution_count": 21,
   "id": "b538d20b",
   "metadata": {},
   "outputs": [
    {
     "data": {
      "text/plain": [
       "thu    0.2255\n",
       "tue    0.2055\n",
       "wed    0.2031\n",
       "mon    0.1831\n",
       "fri    0.1827\n",
       "Name: day_of_week, dtype: float64"
      ]
     },
     "execution_count": 21,
     "metadata": {},
     "output_type": "execute_result"
    }
   ],
   "source": [
    "series_day_of_week = np.round(series_day_of_week / series_day_of_week.sum(), 4)\n",
    "series_day_of_week"
   ]
  },
  {
   "cell_type": "markdown",
   "id": "686c8166",
   "metadata": {},
   "source": [
    "##### Также добавим вероятности в набор данных."
   ]
  },
  {
   "cell_type": "code",
   "execution_count": 22,
   "id": "f98c3761",
   "metadata": {
    "scrolled": true
   },
   "outputs": [
    {
     "name": "stdout",
     "output_type": "stream",
     "text": [
      "<class 'pandas.core.frame.DataFrame'>\n",
      "Int64Index: 39404 entries, 0 to 41187\n",
      "Data columns (total 1 columns):\n",
      " #   Column   Non-Null Count  Dtype  \n",
      "---  ------   --------------  -----  \n",
      " 0   month_p  39404 non-null  float64\n",
      "dtypes: float64(1)\n",
      "memory usage: 1.6 MB\n"
     ]
    }
   ],
   "source": [
    "df_month = pd.DataFrame(df_data['month'], columns=['month'])\n",
    "df_month.index = df_data.index\n",
    "series_month = pd.DataFrame(series_month).copy()\n",
    "series_month = series_month.add_suffix('_p').copy()\n",
    "series_month['month'] = series_month.index\n",
    "df_month = df_month.merge(series_month, on='month', how='left').copy()\n",
    "df_month = df_month.drop(columns=['month'])\n",
    "df_month.index = df_data_preprocessed.index\n",
    "\n",
    "df_data_preprocessed = df_data_preprocessed.join(df_month).copy()\n",
    "df_month.info()"
   ]
  },
  {
   "cell_type": "code",
   "execution_count": 23,
   "id": "8ebd4e70",
   "metadata": {
    "scrolled": true
   },
   "outputs": [
    {
     "name": "stdout",
     "output_type": "stream",
     "text": [
      "<class 'pandas.core.frame.DataFrame'>\n",
      "Int64Index: 39404 entries, 0 to 41187\n",
      "Data columns (total 1 columns):\n",
      " #   Column         Non-Null Count  Dtype  \n",
      "---  ------         --------------  -----  \n",
      " 0   day_of_week_p  39404 non-null  float64\n",
      "dtypes: float64(1)\n",
      "memory usage: 1.6 MB\n"
     ]
    }
   ],
   "source": [
    "df_day_of_week = pd.DataFrame(df_data['day_of_week'], columns=['day_of_week'])\n",
    "df_day_of_week.index = df_data.index\n",
    "series_day_of_week = pd.DataFrame(series_day_of_week).copy()\n",
    "series_day_of_week = series_day_of_week.add_suffix('_p').copy()\n",
    "series_day_of_week['day_of_week'] = series_day_of_week.index\n",
    "df_day_of_week = df_day_of_week.merge(series_day_of_week, on='day_of_week', how='left').copy()\n",
    "df_day_of_week = df_day_of_week.drop(columns=['day_of_week'])\n",
    "df_day_of_week.index = df_data_preprocessed.index\n",
    "\n",
    "df_data_preprocessed = df_data_preprocessed.join(df_day_of_week).copy()\n",
    "df_day_of_week.info()"
   ]
  },
  {
   "cell_type": "code",
   "execution_count": 24,
   "id": "843d5e47",
   "metadata": {},
   "outputs": [
    {
     "name": "stdout",
     "output_type": "stream",
     "text": [
      "<class 'pandas.core.frame.DataFrame'>\n",
      "Int64Index: 39404 entries, 0 to 41187\n",
      "Data columns (total 39 columns):\n",
      " #   Column               Non-Null Count  Dtype  \n",
      "---  ------               --------------  -----  \n",
      " 0   age                  39404 non-null  int64  \n",
      " 1   campaign             39404 non-null  int64  \n",
      " 2   pdays                39404 non-null  int64  \n",
      " 3   previous             39404 non-null  int64  \n",
      " 4   emp.var.rate         39404 non-null  float64\n",
      " 5   cons.price.idx       39404 non-null  float64\n",
      " 6   cons.conf.idx        39404 non-null  float64\n",
      " 7   euribor3m            39404 non-null  float64\n",
      " 8   nr.employed          39404 non-null  float64\n",
      " 9   y                    39404 non-null  int32  \n",
      " 10  admin.               39404 non-null  float64\n",
      " 11  blue-collar          39404 non-null  float64\n",
      " 12  entrepreneur         39404 non-null  float64\n",
      " 13  housemaid            39404 non-null  float64\n",
      " 14  management           39404 non-null  float64\n",
      " 15  retired              39404 non-null  float64\n",
      " 16  self-employed        39404 non-null  float64\n",
      " 17  services             39404 non-null  float64\n",
      " 18  student              39404 non-null  float64\n",
      " 19  technician           39404 non-null  float64\n",
      " 20  unemployed           39404 non-null  float64\n",
      " 21  divorced             39404 non-null  float64\n",
      " 22  married              39404 non-null  float64\n",
      " 23  single               39404 non-null  float64\n",
      " 24  basic.4y             39404 non-null  float64\n",
      " 25  basic.6y             39404 non-null  float64\n",
      " 26  basic.9y             39404 non-null  float64\n",
      " 27  high.school          39404 non-null  float64\n",
      " 28  illiterate           39404 non-null  float64\n",
      " 29  professional.course  39404 non-null  float64\n",
      " 30  university.degree    39404 non-null  float64\n",
      " 31  default_no           39404 non-null  float64\n",
      " 32  default_yes          39404 non-null  float64\n",
      " 33  loan_no              39404 non-null  float64\n",
      " 34  loan_yes             39404 non-null  float64\n",
      " 35  failure              39404 non-null  float64\n",
      " 36  success              39404 non-null  float64\n",
      " 37  month_p              39404 non-null  float64\n",
      " 38  day_of_week_p        39404 non-null  float64\n",
      "dtypes: float64(34), int32(1), int64(4)\n",
      "memory usage: 12.9 MB\n"
     ]
    }
   ],
   "source": [
    "df_data_preprocessed.info()"
   ]
  },
  {
   "cell_type": "markdown",
   "id": "52e06648",
   "metadata": {},
   "source": [
    "##### Масштабируем банковские признаки \"emp.var.rate\", \"cons.price.idx\", \"cons.conf.idx\", \"euribor3m\", \"nr.employed\" для облегчения обучения модели, так как некоторые значения находятся крайне близко друг к другу."
   ]
  },
  {
   "cell_type": "code",
   "execution_count": 25,
   "id": "14d76bc5",
   "metadata": {},
   "outputs": [
    {
     "data": {
      "text/html": [
       "<div>\n",
       "<style scoped>\n",
       "    .dataframe tbody tr th:only-of-type {\n",
       "        vertical-align: middle;\n",
       "    }\n",
       "\n",
       "    .dataframe tbody tr th {\n",
       "        vertical-align: top;\n",
       "    }\n",
       "\n",
       "    .dataframe thead th {\n",
       "        text-align: right;\n",
       "    }\n",
       "</style>\n",
       "<table border=\"1\" class=\"dataframe\">\n",
       "  <thead>\n",
       "    <tr style=\"text-align: right;\">\n",
       "      <th></th>\n",
       "      <th>emp.var.rate</th>\n",
       "      <th>cons.price.idx</th>\n",
       "      <th>cons.conf.idx</th>\n",
       "      <th>euribor3m</th>\n",
       "      <th>nr.employed</th>\n",
       "    </tr>\n",
       "  </thead>\n",
       "  <tbody>\n",
       "    <tr>\n",
       "      <th>count</th>\n",
       "      <td>3.940400e+04</td>\n",
       "      <td>3.940400e+04</td>\n",
       "      <td>3.940400e+04</td>\n",
       "      <td>3.940400e+04</td>\n",
       "      <td>3.940400e+04</td>\n",
       "    </tr>\n",
       "    <tr>\n",
       "      <th>mean</th>\n",
       "      <td>1.846502e-16</td>\n",
       "      <td>-8.286179e-15</td>\n",
       "      <td>-5.654913e-16</td>\n",
       "      <td>4.616256e-16</td>\n",
       "      <td>3.185216e-15</td>\n",
       "    </tr>\n",
       "    <tr>\n",
       "      <th>std</th>\n",
       "      <td>1.000013e+00</td>\n",
       "      <td>1.000013e+00</td>\n",
       "      <td>1.000013e+00</td>\n",
       "      <td>1.000013e+00</td>\n",
       "      <td>1.000013e+00</td>\n",
       "    </tr>\n",
       "    <tr>\n",
       "      <th>min</th>\n",
       "      <td>-2.196589e+00</td>\n",
       "      <td>-2.357841e+00</td>\n",
       "      <td>-2.217873e+00</td>\n",
       "      <td>-1.703047e+00</td>\n",
       "      <td>-2.781450e+00</td>\n",
       "    </tr>\n",
       "    <tr>\n",
       "      <th>25%</th>\n",
       "      <td>-1.182018e+00</td>\n",
       "      <td>-8.607866e-01</td>\n",
       "      <td>-4.737875e-01</td>\n",
       "      <td>-1.301282e+00</td>\n",
       "      <td>-9.192383e-01</td>\n",
       "    </tr>\n",
       "    <tr>\n",
       "      <th>50%</th>\n",
       "      <td>6.568924e-01</td>\n",
       "      <td>3.776238e-01</td>\n",
       "      <td>-2.800002e-01</td>\n",
       "      <td>7.207407e-01</td>\n",
       "      <td>3.437673e-01</td>\n",
       "    </tr>\n",
       "    <tr>\n",
       "      <th>75%</th>\n",
       "      <td>8.471245e-01</td>\n",
       "      <td>7.133478e-01</td>\n",
       "      <td>8.827234e-01</td>\n",
       "      <td>7.804314e-01</td>\n",
       "      <td>8.536422e-01</td>\n",
       "    </tr>\n",
       "    <tr>\n",
       "      <th>max</th>\n",
       "      <td>8.471245e-01</td>\n",
       "      <td>2.037402e+00</td>\n",
       "      <td>2.928256e+00</td>\n",
       "      <td>8.286431e-01</td>\n",
       "      <td>8.536422e-01</td>\n",
       "    </tr>\n",
       "  </tbody>\n",
       "</table>\n",
       "</div>"
      ],
      "text/plain": [
       "       emp.var.rate  cons.price.idx  cons.conf.idx     euribor3m   nr.employed\n",
       "count  3.940400e+04    3.940400e+04   3.940400e+04  3.940400e+04  3.940400e+04\n",
       "mean   1.846502e-16   -8.286179e-15  -5.654913e-16  4.616256e-16  3.185216e-15\n",
       "std    1.000013e+00    1.000013e+00   1.000013e+00  1.000013e+00  1.000013e+00\n",
       "min   -2.196589e+00   -2.357841e+00  -2.217873e+00 -1.703047e+00 -2.781450e+00\n",
       "25%   -1.182018e+00   -8.607866e-01  -4.737875e-01 -1.301282e+00 -9.192383e-01\n",
       "50%    6.568924e-01    3.776238e-01  -2.800002e-01  7.207407e-01  3.437673e-01\n",
       "75%    8.471245e-01    7.133478e-01   8.827234e-01  7.804314e-01  8.536422e-01\n",
       "max    8.471245e-01    2.037402e+00   2.928256e+00  8.286431e-01  8.536422e-01"
      ]
     },
     "execution_count": 25,
     "metadata": {},
     "output_type": "execute_result"
    }
   ],
   "source": [
    "ss = StandardScaler()\n",
    "\n",
    "df_data_preprocessed[[\"emp.var.rate\", \"cons.price.idx\", \"cons.conf.idx\", \"euribor3m\", \"nr.employed\"]] = ss.fit_transform(df_data_preprocessed[[\"emp.var.rate\", \"cons.price.idx\", \"cons.conf.idx\", \"euribor3m\", \"nr.employed\"]])\n",
    "df_data_preprocessed[[\"emp.var.rate\", \"cons.price.idx\", \"cons.conf.idx\", \"euribor3m\", \"nr.employed\"]].describe()"
   ]
  },
  {
   "cell_type": "code",
   "execution_count": 26,
   "id": "e19005b7",
   "metadata": {},
   "outputs": [
    {
     "name": "stdout",
     "output_type": "stream",
     "text": [
      "Initial memory usage of dataframe:\t12.9 Mb\n",
      "Final memory usage of dataframe:\t6.64 Mb\n",
      "Memory usage has been decreased by:\t48.422 %\n",
      "<class 'pandas.core.frame.DataFrame'>\n",
      "Int64Index: 39404 entries, 0 to 41187\n",
      "Data columns (total 39 columns):\n",
      " #   Column               Non-Null Count  Dtype  \n",
      "---  ------               --------------  -----  \n",
      " 0   age                  39404 non-null  int8   \n",
      " 1   campaign             39404 non-null  int8   \n",
      " 2   pdays                39404 non-null  int16  \n",
      " 3   previous             39404 non-null  int8   \n",
      " 4   emp.var.rate         39404 non-null  float32\n",
      " 5   cons.price.idx       39404 non-null  float32\n",
      " 6   cons.conf.idx        39404 non-null  float32\n",
      " 7   euribor3m            39404 non-null  float32\n",
      " 8   nr.employed          39404 non-null  float32\n",
      " 9   y                    39404 non-null  int8   \n",
      " 10  admin.               39404 non-null  float32\n",
      " 11  blue-collar          39404 non-null  float32\n",
      " 12  entrepreneur         39404 non-null  float32\n",
      " 13  housemaid            39404 non-null  float32\n",
      " 14  management           39404 non-null  float32\n",
      " 15  retired              39404 non-null  float32\n",
      " 16  self-employed        39404 non-null  float32\n",
      " 17  services             39404 non-null  float32\n",
      " 18  student              39404 non-null  float32\n",
      " 19  technician           39404 non-null  float32\n",
      " 20  unemployed           39404 non-null  float32\n",
      " 21  divorced             39404 non-null  float32\n",
      " 22  married              39404 non-null  float32\n",
      " 23  single               39404 non-null  float32\n",
      " 24  basic.4y             39404 non-null  float32\n",
      " 25  basic.6y             39404 non-null  float32\n",
      " 26  basic.9y             39404 non-null  float32\n",
      " 27  high.school          39404 non-null  float32\n",
      " 28  illiterate           39404 non-null  float32\n",
      " 29  professional.course  39404 non-null  float32\n",
      " 30  university.degree    39404 non-null  float32\n",
      " 31  default_no           39404 non-null  float32\n",
      " 32  default_yes          39404 non-null  float32\n",
      " 33  loan_no              39404 non-null  float32\n",
      " 34  loan_yes             39404 non-null  float32\n",
      " 35  failure              39404 non-null  float32\n",
      " 36  success              39404 non-null  float32\n",
      " 37  month_p              39404 non-null  float32\n",
      " 38  day_of_week_p        39404 non-null  float32\n",
      "dtypes: float32(34), int16(1), int8(4)\n",
      "memory usage: 6.6 MB\n"
     ]
    }
   ],
   "source": [
    "df_data_preprocessed = reduce_memory_usage(df_data_preprocessed)\n",
    "df_data_preprocessed.info()"
   ]
  },
  {
   "cell_type": "markdown",
   "id": "ab13df56",
   "metadata": {},
   "source": [
    "## Model Building"
   ]
  },
  {
   "cell_type": "code",
   "execution_count": 27,
   "id": "274233e7",
   "metadata": {},
   "outputs": [],
   "source": [
    "X = df_data_preprocessed.drop(columns=['y']).copy()\n",
    "y = df_data_preprocessed['y'].copy()"
   ]
  },
  {
   "cell_type": "code",
   "execution_count": 28,
   "id": "e8373cbf",
   "metadata": {},
   "outputs": [
    {
     "data": {
      "text/plain": [
       "0    34806\n",
       "1     4598\n",
       "Name: y, dtype: int64"
      ]
     },
     "execution_count": 28,
     "metadata": {},
     "output_type": "execute_result"
    }
   ],
   "source": [
    "y.value_counts()"
   ]
  },
  {
   "cell_type": "markdown",
   "id": "692416f4",
   "metadata": {},
   "source": [
    "##### Необходимо учесть дисбаланс признаков.\n",
    "\n",
    "##### Балансировка признаков от модели:"
   ]
  },
  {
   "cell_type": "code",
   "execution_count": 29,
   "id": "b39f9c21",
   "metadata": {},
   "outputs": [
    {
     "name": "stdout",
     "output_type": "stream",
     "text": [
      "              precision    recall  f1-score   support\n",
      "\n",
      "           0       0.95      0.76      0.85     34806\n",
      "           1       0.28      0.69      0.40      4598\n",
      "\n",
      "    accuracy                           0.76     39404\n",
      "   macro avg       0.61      0.73      0.62     39404\n",
      "weighted avg       0.87      0.76      0.79     39404\n",
      "\n",
      "Wall time: 314 ms\n"
     ]
    },
    {
     "name": "stderr",
     "output_type": "stream",
     "text": [
      "c:\\users\\sergeyz06\\appdata\\local\\programs\\python\\python39\\lib\\site-packages\\sklearn\\linear_model\\_logistic.py:814: ConvergenceWarning: lbfgs failed to converge (status=1):\n",
      "STOP: TOTAL NO. of ITERATIONS REACHED LIMIT.\n",
      "\n",
      "Increase the number of iterations (max_iter) or scale the data as shown in:\n",
      "    https://scikit-learn.org/stable/modules/preprocessing.html\n",
      "Please also refer to the documentation for alternative solver options:\n",
      "    https://scikit-learn.org/stable/modules/linear_model.html#logistic-regression\n",
      "  n_iter_i = _check_optimize_result(\n"
     ]
    }
   ],
   "source": [
    "%%time\n",
    "\n",
    "lr = LogisticRegression(penalty='l2', class_weight='balanced')\n",
    "\n",
    "lr.fit(X, y)\n",
    "y_pred = lr.predict(X)\n",
    "print(classification_report(y, y_pred))"
   ]
  },
  {
   "cell_type": "markdown",
   "id": "fa2eff6e",
   "metadata": {},
   "source": [
    "##### Слишком низкая Precision для TP. \n",
    "\n",
    "##### Без балансировки признаков:"
   ]
  },
  {
   "cell_type": "code",
   "execution_count": 30,
   "id": "58f6eca0",
   "metadata": {},
   "outputs": [
    {
     "name": "stdout",
     "output_type": "stream",
     "text": [
      "              precision    recall  f1-score   support\n",
      "\n",
      "           0       0.90      0.99      0.94     34806\n",
      "           1       0.69      0.20      0.30      4598\n",
      "\n",
      "    accuracy                           0.90     39404\n",
      "   macro avg       0.79      0.59      0.62     39404\n",
      "weighted avg       0.88      0.90      0.87     39404\n",
      "\n",
      "Wall time: 327 ms\n"
     ]
    },
    {
     "name": "stderr",
     "output_type": "stream",
     "text": [
      "c:\\users\\sergeyz06\\appdata\\local\\programs\\python\\python39\\lib\\site-packages\\sklearn\\linear_model\\_logistic.py:814: ConvergenceWarning: lbfgs failed to converge (status=1):\n",
      "STOP: TOTAL NO. of ITERATIONS REACHED LIMIT.\n",
      "\n",
      "Increase the number of iterations (max_iter) or scale the data as shown in:\n",
      "    https://scikit-learn.org/stable/modules/preprocessing.html\n",
      "Please also refer to the documentation for alternative solver options:\n",
      "    https://scikit-learn.org/stable/modules/linear_model.html#logistic-regression\n",
      "  n_iter_i = _check_optimize_result(\n"
     ]
    }
   ],
   "source": [
    "%%time\n",
    "\n",
    "weights = {}\n",
    "\n",
    "lr = LogisticRegression(penalty='l2')\n",
    "\n",
    "lr.fit(X, y)\n",
    "y_pred = lr.predict(X)\n",
    "print(classification_report(y, y_pred))"
   ]
  },
  {
   "cell_type": "markdown",
   "id": "a580b763",
   "metadata": {},
   "source": [
    "##### Слишком низкая Recall для TP. \n",
    "\n",
    "##### Ручная балансировка признаков:"
   ]
  },
  {
   "cell_type": "code",
   "execution_count": 31,
   "id": "8733d4f4",
   "metadata": {},
   "outputs": [
    {
     "name": "stdout",
     "output_type": "stream",
     "text": [
      "39404\n",
      "4598\n",
      "34806\n",
      "0.11668866104963962\n",
      "0.8833113389503604\n"
     ]
    }
   ],
   "source": [
    "print(y.shape[0])\n",
    "print(y[y == 1].shape[0])\n",
    "print(y[y == 0].shape[0])\n",
    "print((y.shape[0] - y[y == 0].shape[0]) / y.shape[0])\n",
    "print((y.shape[0] - y[y == 1].shape[0]) / y.shape[0])"
   ]
  },
  {
   "cell_type": "code",
   "execution_count": 32,
   "id": "d92b8c3b",
   "metadata": {},
   "outputs": [
    {
     "name": "stdout",
     "output_type": "stream",
     "text": [
      "              precision    recall  f1-score   support\n",
      "\n",
      "           0       0.95      0.78      0.86     34806\n",
      "           1       0.29      0.68      0.41      4598\n",
      "\n",
      "    accuracy                           0.77     39404\n",
      "   macro avg       0.62      0.73      0.63     39404\n",
      "weighted avg       0.87      0.77      0.81     39404\n",
      "\n",
      "Wall time: 280 ms\n"
     ]
    }
   ],
   "source": [
    "%%time\n",
    "\n",
    "weights = {0: (y.shape[0] - y[y == 0].shape[0]) / y.shape[0], 1: (y.shape[0] - y[y == 1].shape[0]) / y.shape[0]}\n",
    "\n",
    "lr = LogisticRegression(penalty='l2', class_weight=weights)\n",
    "\n",
    "lr.fit(X, y)\n",
    "y_pred = lr.predict(X)\n",
    "print(classification_report(y, y_pred))"
   ]
  },
  {
   "cell_type": "markdown",
   "id": "a7a02acd",
   "metadata": {},
   "source": [
    "##### Также слишком низкая Precision для TP. \n",
    "\n",
    "##### Ручная кросс-валидация (методом перебора весов):"
   ]
  },
  {
   "cell_type": "code",
   "execution_count": 33,
   "id": "4194f5bd",
   "metadata": {},
   "outputs": [
    {
     "name": "stdout",
     "output_type": "stream",
     "text": [
      "              precision    recall  f1-score   support\n",
      "\n",
      "           0       0.93      0.93      0.93     34806\n",
      "           1       0.46      0.46      0.46      4598\n",
      "\n",
      "    accuracy                           0.87     39404\n",
      "   macro avg       0.69      0.69      0.69     39404\n",
      "weighted avg       0.87      0.87      0.87     39404\n",
      "\n",
      "Wall time: 321 ms\n"
     ]
    },
    {
     "name": "stderr",
     "output_type": "stream",
     "text": [
      "c:\\users\\sergeyz06\\appdata\\local\\programs\\python\\python39\\lib\\site-packages\\sklearn\\linear_model\\_logistic.py:814: ConvergenceWarning: lbfgs failed to converge (status=1):\n",
      "STOP: TOTAL NO. of ITERATIONS REACHED LIMIT.\n",
      "\n",
      "Increase the number of iterations (max_iter) or scale the data as shown in:\n",
      "    https://scikit-learn.org/stable/modules/preprocessing.html\n",
      "Please also refer to the documentation for alternative solver options:\n",
      "    https://scikit-learn.org/stable/modules/linear_model.html#logistic-regression\n",
      "  n_iter_i = _check_optimize_result(\n"
     ]
    }
   ],
   "source": [
    "%%time\n",
    "\n",
    "weights = {0: 0.22, 1: 0.78}\n",
    "\n",
    "lr = LogisticRegression(penalty='l2', class_weight=weights)\n",
    "\n",
    "lr.fit(X, y)\n",
    "y_pred = lr.predict(X)\n",
    "print(classification_report(y, y_pred))"
   ]
  },
  {
   "cell_type": "markdown",
   "id": "b5555dc9",
   "metadata": {},
   "source": [
    "### Идеальный баланс признаков, однако F1 для TP оставляет желать лучшего."
   ]
  },
  {
   "cell_type": "code",
   "execution_count": 34,
   "id": "e42cb307",
   "metadata": {},
   "outputs": [],
   "source": [
    "#               precision    recall  f1-score   support\n",
    "\n",
    "#            0       0.93      0.93      0.93     34806\n",
    "#            1       0.46      0.46      0.46      4598\n",
    "\n",
    "#     accuracy                           0.87     39404\n",
    "#    macro avg       0.69      0.69      0.69     39404\n",
    "# weighted avg       0.87      0.87      0.87     39404"
   ]
  },
  {
   "cell_type": "code",
   "execution_count": null,
   "id": "fda8656f",
   "metadata": {},
   "outputs": [],
   "source": []
  }
 ],
 "metadata": {
  "kernelspec": {
   "display_name": "Python 3 (ipykernel)",
   "language": "python",
   "name": "python3"
  },
  "language_info": {
   "codemirror_mode": {
    "name": "ipython",
    "version": 3
   },
   "file_extension": ".py",
   "mimetype": "text/x-python",
   "name": "python",
   "nbconvert_exporter": "python",
   "pygments_lexer": "ipython3",
   "version": "3.9.4"
  }
 },
 "nbformat": 4,
 "nbformat_minor": 5
}
