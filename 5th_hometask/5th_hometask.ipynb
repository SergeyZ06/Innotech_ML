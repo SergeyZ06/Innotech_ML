{
 "cells": [
  {
   "cell_type": "markdown",
   "id": "42f416e2",
   "metadata": {},
   "source": [
    "# 5th_hometask"
   ]
  },
  {
   "cell_type": "markdown",
   "id": "bea900dd",
   "metadata": {},
   "source": [
    "Домашка по 5му заданию.\n",
    "\n",
    "Предсказание оттока клиентов банка. \n",
    "\n",
    "Это задача классификации. Нужно предсказать значение поля Exited.\n",
    "\n",
    "Всё то, что делали ранее, нужно делать и тут 🙂 \n",
    "\n",
    "Анализируйте и предобрабатывайте данные. Описывайте ход ваших мыслей.  Ну, и конечно же, подходы с прошлого занятия не забывайте применять в своей работе 🙂 \n",
    "\n",
    "Всем успехов!\n",
    "\n",
    "##### Используй логресс. Все ограничения буду снимать по ходу подачи материала\n",
    "\n",
    "Столбцы датасета:\n",
    " - RowNumber—corresponds to the record (row) number and has no effect on the output.\n",
    " - CustomerId—contains random values and has no effect on customer leaving the bank.\n",
    " - Surname—the surname of a customer has no impact on their decision to leave the bank.\n",
    " - CreditScore\n",
    " - Geography—a customer’s location can affect their decision to leave the bank.\n",
    " - Gender—it’s interesting to explore whether gender plays a role in a customer leaving the bank.\n",
    " - Age—this is certainly relevant, since older customers are less likely to leave their bank than younger ones.\n",
    " - Tenure—refers to the number of years that the customer has been a client of the bank. Normally, older clients are more loyal and less likely to leave a bank.\n",
    " - Balance—also a very good indicator of customer churn, as people with a higher balance in their accounts are less likely to leave the bank compared to those with lower balances.\n",
    " - NumOfProducts—refers to the number of products that a customer has purchased through the bank.\n",
    " - HasCrCard—denotes whether or not a customer has a credit card. This column is also relevant, since people with a credit card are less likely to leave the bank.\n",
    " - IsActiveMember—active customers are less likely to leave the bank.\n",
    " - EstimatedSalary—as with balance, people with lower salaries are more likely to leave the bank compared to those with higher salaries.\n",
    "\n",
    "Exited—whether or not the customer left the bank.\n"
   ]
  },
  {
   "cell_type": "markdown",
   "id": "47401d2e",
   "metadata": {},
   "source": [
    "## Import Section"
   ]
  },
  {
   "cell_type": "code",
   "execution_count": 48,
   "id": "e154756d",
   "metadata": {},
   "outputs": [],
   "source": [
    "import numpy as np\n",
    "import pandas as pd\n",
    "\n",
    "from sklearn.preprocessing import OneHotEncoder\n",
    "from sklearn.preprocessing import StandardScaler\n",
    "from sklearn.preprocessing import MinMaxScaler\n",
    "\n",
    "from sklearn.model_selection import train_test_split\n",
    "from sklearn.model_selection import GridSearchCV\n",
    "\n",
    "from sklearn.linear_model import LogisticRegression\n",
    "\n",
    "from sklearn.metrics import classification_report\n",
    "\n",
    "from matplotlib import pyplot as plt\n",
    "import seaborn as sn"
   ]
  },
  {
   "cell_type": "markdown",
   "id": "6f4b5bbd",
   "metadata": {},
   "source": [
    "## Function \"Reduce Memory Usage\""
   ]
  },
  {
   "cell_type": "code",
   "execution_count": 2,
   "id": "e6500030",
   "metadata": {},
   "outputs": [],
   "source": [
    "def reduce_memory_usage(df):\n",
    "    \n",
    "    # СДЕЛАТЬ ПРОВЕРКУ type(df) == pd.DataFrame\n",
    "    \n",
    "    initial_memory_usage = df.memory_usage().sum() / 1024 / 1024\n",
    "    print(f'Initial memory usage of dataframe:\\t{initial_memory_usage:.3} Mb')\n",
    "    \n",
    "    for col in df.columns:\n",
    "        col_type = df[col].dtype\n",
    "        \n",
    "        if col_type != 'object':\n",
    "            c_min = df[col].min()\n",
    "            c_max = df[col].max()\n",
    "            \n",
    "            if str(col_type)[:3] == 'int':\n",
    "                if c_min > np.iinfo(np.int8).min and c_max < np.iinfo(np.int8).max:\n",
    "                    df[col] = df[col].astype(np.int8)\n",
    "                elif c_min > np.iinfo(np.int16).min and c_max < np.iinfo(np.int16).max:\n",
    "                    df[col] = df[col].astype(np.int16)\n",
    "                elif c_min > np.iinfo(np.int32).min and c_max < np.iinfo(np.int32).max:\n",
    "                    df[col] = df[col].astype(np.int32)\n",
    "                elif c_min > np.iinfo(np.int64).min and c_max < np.iinfo(np.int64).max:\n",
    "                    df[col] = df[col].astype(np.int64)\n",
    "            \n",
    "            # Можно было бы сделать оптимизацию вплоть до типа \"float16\", однако данный тип данных,\n",
    "            # как сообщается от сообщества аналитиков данных, плохо поддерживается некоторыми библиотеками\n",
    "            \n",
    "            if str(col_type)[:5] == 'float':\n",
    "                if c_min > np.finfo(np.float32).min and c_max < np.finfo(np.float32).max:\n",
    "                    df[col] = df[col].astype(np.float32)\n",
    "                elif c_min > np.finfo(np.float64).min and c_max < np.finfo(np.float64).max:\n",
    "                    df[col] = df[col].astype(np.float64)\n",
    "        \n",
    "        else:\n",
    "            df[col] = df[col].astype('category')\n",
    "    \n",
    "    final_memory_usage = df.memory_usage().sum() / 1024 / 1024\n",
    "    print(f'Final memory usage of dataframe:\\t{final_memory_usage:.3} Mb')\n",
    "    \n",
    "    comparison = np.round(100 * (initial_memory_usage - final_memory_usage) / initial_memory_usage, 3)\n",
    "    print(f'Memory usage has been decreased by:\\t{comparison} %')\n",
    "    \n",
    "    return df"
   ]
  },
  {
   "cell_type": "markdown",
   "id": "c9814a3d",
   "metadata": {},
   "source": [
    "## Path Section"
   ]
  },
  {
   "cell_type": "code",
   "execution_count": 3,
   "id": "3c58515e",
   "metadata": {},
   "outputs": [],
   "source": [
    "PATH_DATA = r'churn.csv'"
   ]
  },
  {
   "cell_type": "markdown",
   "id": "a548c8e9",
   "metadata": {},
   "source": [
    "## Exploratory Data Analysis"
   ]
  },
  {
   "cell_type": "code",
   "execution_count": 4,
   "id": "9798b20f",
   "metadata": {},
   "outputs": [],
   "source": [
    "df_data = pd.read_csv(PATH_DATA)"
   ]
  },
  {
   "cell_type": "code",
   "execution_count": 5,
   "id": "28a04e05",
   "metadata": {},
   "outputs": [
    {
     "data": {
      "text/html": [
       "<div>\n",
       "<style scoped>\n",
       "    .dataframe tbody tr th:only-of-type {\n",
       "        vertical-align: middle;\n",
       "    }\n",
       "\n",
       "    .dataframe tbody tr th {\n",
       "        vertical-align: top;\n",
       "    }\n",
       "\n",
       "    .dataframe thead th {\n",
       "        text-align: right;\n",
       "    }\n",
       "</style>\n",
       "<table border=\"1\" class=\"dataframe\">\n",
       "  <thead>\n",
       "    <tr style=\"text-align: right;\">\n",
       "      <th></th>\n",
       "      <th>RowNumber</th>\n",
       "      <th>CustomerId</th>\n",
       "      <th>Surname</th>\n",
       "      <th>CreditScore</th>\n",
       "      <th>Geography</th>\n",
       "      <th>Gender</th>\n",
       "      <th>Age</th>\n",
       "      <th>Tenure</th>\n",
       "      <th>Balance</th>\n",
       "      <th>NumOfProducts</th>\n",
       "      <th>HasCrCard</th>\n",
       "      <th>IsActiveMember</th>\n",
       "      <th>EstimatedSalary</th>\n",
       "      <th>Exited</th>\n",
       "    </tr>\n",
       "  </thead>\n",
       "  <tbody>\n",
       "    <tr>\n",
       "      <th>0</th>\n",
       "      <td>1</td>\n",
       "      <td>15634602</td>\n",
       "      <td>Hargrave</td>\n",
       "      <td>619</td>\n",
       "      <td>France</td>\n",
       "      <td>Female</td>\n",
       "      <td>42</td>\n",
       "      <td>2</td>\n",
       "      <td>0.00</td>\n",
       "      <td>1</td>\n",
       "      <td>1</td>\n",
       "      <td>1</td>\n",
       "      <td>101348.88</td>\n",
       "      <td>1</td>\n",
       "    </tr>\n",
       "    <tr>\n",
       "      <th>1</th>\n",
       "      <td>2</td>\n",
       "      <td>15647311</td>\n",
       "      <td>Hill</td>\n",
       "      <td>608</td>\n",
       "      <td>Spain</td>\n",
       "      <td>Female</td>\n",
       "      <td>41</td>\n",
       "      <td>1</td>\n",
       "      <td>83807.86</td>\n",
       "      <td>1</td>\n",
       "      <td>0</td>\n",
       "      <td>1</td>\n",
       "      <td>112542.58</td>\n",
       "      <td>0</td>\n",
       "    </tr>\n",
       "    <tr>\n",
       "      <th>2</th>\n",
       "      <td>3</td>\n",
       "      <td>15619304</td>\n",
       "      <td>Onio</td>\n",
       "      <td>502</td>\n",
       "      <td>France</td>\n",
       "      <td>Female</td>\n",
       "      <td>42</td>\n",
       "      <td>8</td>\n",
       "      <td>159660.80</td>\n",
       "      <td>3</td>\n",
       "      <td>1</td>\n",
       "      <td>0</td>\n",
       "      <td>113931.57</td>\n",
       "      <td>1</td>\n",
       "    </tr>\n",
       "    <tr>\n",
       "      <th>3</th>\n",
       "      <td>4</td>\n",
       "      <td>15701354</td>\n",
       "      <td>Boni</td>\n",
       "      <td>699</td>\n",
       "      <td>France</td>\n",
       "      <td>Female</td>\n",
       "      <td>39</td>\n",
       "      <td>1</td>\n",
       "      <td>0.00</td>\n",
       "      <td>2</td>\n",
       "      <td>0</td>\n",
       "      <td>0</td>\n",
       "      <td>93826.63</td>\n",
       "      <td>0</td>\n",
       "    </tr>\n",
       "    <tr>\n",
       "      <th>4</th>\n",
       "      <td>5</td>\n",
       "      <td>15737888</td>\n",
       "      <td>Mitchell</td>\n",
       "      <td>850</td>\n",
       "      <td>Spain</td>\n",
       "      <td>Female</td>\n",
       "      <td>43</td>\n",
       "      <td>2</td>\n",
       "      <td>125510.82</td>\n",
       "      <td>1</td>\n",
       "      <td>1</td>\n",
       "      <td>1</td>\n",
       "      <td>79084.10</td>\n",
       "      <td>0</td>\n",
       "    </tr>\n",
       "  </tbody>\n",
       "</table>\n",
       "</div>"
      ],
      "text/plain": [
       "   RowNumber  CustomerId   Surname  CreditScore Geography  Gender  Age  \\\n",
       "0          1    15634602  Hargrave          619    France  Female   42   \n",
       "1          2    15647311      Hill          608     Spain  Female   41   \n",
       "2          3    15619304      Onio          502    France  Female   42   \n",
       "3          4    15701354      Boni          699    France  Female   39   \n",
       "4          5    15737888  Mitchell          850     Spain  Female   43   \n",
       "\n",
       "   Tenure    Balance  NumOfProducts  HasCrCard  IsActiveMember  \\\n",
       "0       2       0.00              1          1               1   \n",
       "1       1   83807.86              1          0               1   \n",
       "2       8  159660.80              3          1               0   \n",
       "3       1       0.00              2          0               0   \n",
       "4       2  125510.82              1          1               1   \n",
       "\n",
       "   EstimatedSalary  Exited  \n",
       "0        101348.88       1  \n",
       "1        112542.58       0  \n",
       "2        113931.57       1  \n",
       "3         93826.63       0  \n",
       "4         79084.10       0  "
      ]
     },
     "execution_count": 5,
     "metadata": {},
     "output_type": "execute_result"
    }
   ],
   "source": [
    "df_data.head()"
   ]
  },
  {
   "cell_type": "code",
   "execution_count": 6,
   "id": "bfe75bb4",
   "metadata": {},
   "outputs": [
    {
     "data": {
      "text/html": [
       "<div>\n",
       "<style scoped>\n",
       "    .dataframe tbody tr th:only-of-type {\n",
       "        vertical-align: middle;\n",
       "    }\n",
       "\n",
       "    .dataframe tbody tr th {\n",
       "        vertical-align: top;\n",
       "    }\n",
       "\n",
       "    .dataframe thead th {\n",
       "        text-align: right;\n",
       "    }\n",
       "</style>\n",
       "<table border=\"1\" class=\"dataframe\">\n",
       "  <thead>\n",
       "    <tr style=\"text-align: right;\">\n",
       "      <th></th>\n",
       "      <th>RowNumber</th>\n",
       "      <th>CustomerId</th>\n",
       "      <th>CreditScore</th>\n",
       "      <th>Age</th>\n",
       "      <th>Tenure</th>\n",
       "      <th>Balance</th>\n",
       "      <th>NumOfProducts</th>\n",
       "      <th>HasCrCard</th>\n",
       "      <th>IsActiveMember</th>\n",
       "      <th>EstimatedSalary</th>\n",
       "      <th>Exited</th>\n",
       "    </tr>\n",
       "  </thead>\n",
       "  <tbody>\n",
       "    <tr>\n",
       "      <th>count</th>\n",
       "      <td>10000.00000</td>\n",
       "      <td>1.000000e+04</td>\n",
       "      <td>10000.000000</td>\n",
       "      <td>10000.000000</td>\n",
       "      <td>10000.000000</td>\n",
       "      <td>10000.000000</td>\n",
       "      <td>10000.000000</td>\n",
       "      <td>10000.00000</td>\n",
       "      <td>10000.000000</td>\n",
       "      <td>10000.000000</td>\n",
       "      <td>10000.000000</td>\n",
       "    </tr>\n",
       "    <tr>\n",
       "      <th>mean</th>\n",
       "      <td>5000.50000</td>\n",
       "      <td>1.569094e+07</td>\n",
       "      <td>650.528800</td>\n",
       "      <td>38.921800</td>\n",
       "      <td>5.012800</td>\n",
       "      <td>76485.889288</td>\n",
       "      <td>1.530200</td>\n",
       "      <td>0.70550</td>\n",
       "      <td>0.515100</td>\n",
       "      <td>100090.239881</td>\n",
       "      <td>0.203700</td>\n",
       "    </tr>\n",
       "    <tr>\n",
       "      <th>std</th>\n",
       "      <td>2886.89568</td>\n",
       "      <td>7.193619e+04</td>\n",
       "      <td>96.653299</td>\n",
       "      <td>10.487806</td>\n",
       "      <td>2.892174</td>\n",
       "      <td>62397.405202</td>\n",
       "      <td>0.581654</td>\n",
       "      <td>0.45584</td>\n",
       "      <td>0.499797</td>\n",
       "      <td>57510.492818</td>\n",
       "      <td>0.402769</td>\n",
       "    </tr>\n",
       "    <tr>\n",
       "      <th>min</th>\n",
       "      <td>1.00000</td>\n",
       "      <td>1.556570e+07</td>\n",
       "      <td>350.000000</td>\n",
       "      <td>18.000000</td>\n",
       "      <td>0.000000</td>\n",
       "      <td>0.000000</td>\n",
       "      <td>1.000000</td>\n",
       "      <td>0.00000</td>\n",
       "      <td>0.000000</td>\n",
       "      <td>11.580000</td>\n",
       "      <td>0.000000</td>\n",
       "    </tr>\n",
       "    <tr>\n",
       "      <th>25%</th>\n",
       "      <td>2500.75000</td>\n",
       "      <td>1.562853e+07</td>\n",
       "      <td>584.000000</td>\n",
       "      <td>32.000000</td>\n",
       "      <td>3.000000</td>\n",
       "      <td>0.000000</td>\n",
       "      <td>1.000000</td>\n",
       "      <td>0.00000</td>\n",
       "      <td>0.000000</td>\n",
       "      <td>51002.110000</td>\n",
       "      <td>0.000000</td>\n",
       "    </tr>\n",
       "    <tr>\n",
       "      <th>50%</th>\n",
       "      <td>5000.50000</td>\n",
       "      <td>1.569074e+07</td>\n",
       "      <td>652.000000</td>\n",
       "      <td>37.000000</td>\n",
       "      <td>5.000000</td>\n",
       "      <td>97198.540000</td>\n",
       "      <td>1.000000</td>\n",
       "      <td>1.00000</td>\n",
       "      <td>1.000000</td>\n",
       "      <td>100193.915000</td>\n",
       "      <td>0.000000</td>\n",
       "    </tr>\n",
       "    <tr>\n",
       "      <th>75%</th>\n",
       "      <td>7500.25000</td>\n",
       "      <td>1.575323e+07</td>\n",
       "      <td>718.000000</td>\n",
       "      <td>44.000000</td>\n",
       "      <td>7.000000</td>\n",
       "      <td>127644.240000</td>\n",
       "      <td>2.000000</td>\n",
       "      <td>1.00000</td>\n",
       "      <td>1.000000</td>\n",
       "      <td>149388.247500</td>\n",
       "      <td>0.000000</td>\n",
       "    </tr>\n",
       "    <tr>\n",
       "      <th>max</th>\n",
       "      <td>10000.00000</td>\n",
       "      <td>1.581569e+07</td>\n",
       "      <td>850.000000</td>\n",
       "      <td>92.000000</td>\n",
       "      <td>10.000000</td>\n",
       "      <td>250898.090000</td>\n",
       "      <td>4.000000</td>\n",
       "      <td>1.00000</td>\n",
       "      <td>1.000000</td>\n",
       "      <td>199992.480000</td>\n",
       "      <td>1.000000</td>\n",
       "    </tr>\n",
       "  </tbody>\n",
       "</table>\n",
       "</div>"
      ],
      "text/plain": [
       "         RowNumber    CustomerId   CreditScore           Age        Tenure  \\\n",
       "count  10000.00000  1.000000e+04  10000.000000  10000.000000  10000.000000   \n",
       "mean    5000.50000  1.569094e+07    650.528800     38.921800      5.012800   \n",
       "std     2886.89568  7.193619e+04     96.653299     10.487806      2.892174   \n",
       "min        1.00000  1.556570e+07    350.000000     18.000000      0.000000   \n",
       "25%     2500.75000  1.562853e+07    584.000000     32.000000      3.000000   \n",
       "50%     5000.50000  1.569074e+07    652.000000     37.000000      5.000000   \n",
       "75%     7500.25000  1.575323e+07    718.000000     44.000000      7.000000   \n",
       "max    10000.00000  1.581569e+07    850.000000     92.000000     10.000000   \n",
       "\n",
       "             Balance  NumOfProducts    HasCrCard  IsActiveMember  \\\n",
       "count   10000.000000   10000.000000  10000.00000    10000.000000   \n",
       "mean    76485.889288       1.530200      0.70550        0.515100   \n",
       "std     62397.405202       0.581654      0.45584        0.499797   \n",
       "min         0.000000       1.000000      0.00000        0.000000   \n",
       "25%         0.000000       1.000000      0.00000        0.000000   \n",
       "50%     97198.540000       1.000000      1.00000        1.000000   \n",
       "75%    127644.240000       2.000000      1.00000        1.000000   \n",
       "max    250898.090000       4.000000      1.00000        1.000000   \n",
       "\n",
       "       EstimatedSalary        Exited  \n",
       "count     10000.000000  10000.000000  \n",
       "mean     100090.239881      0.203700  \n",
       "std       57510.492818      0.402769  \n",
       "min          11.580000      0.000000  \n",
       "25%       51002.110000      0.000000  \n",
       "50%      100193.915000      0.000000  \n",
       "75%      149388.247500      0.000000  \n",
       "max      199992.480000      1.000000  "
      ]
     },
     "execution_count": 6,
     "metadata": {},
     "output_type": "execute_result"
    }
   ],
   "source": [
    "df_data.describe()"
   ]
  },
  {
   "cell_type": "code",
   "execution_count": 7,
   "id": "1f289f9f",
   "metadata": {},
   "outputs": [
    {
     "name": "stdout",
     "output_type": "stream",
     "text": [
      "<class 'pandas.core.frame.DataFrame'>\n",
      "RangeIndex: 10000 entries, 0 to 9999\n",
      "Data columns (total 14 columns):\n",
      " #   Column           Non-Null Count  Dtype  \n",
      "---  ------           --------------  -----  \n",
      " 0   RowNumber        10000 non-null  int64  \n",
      " 1   CustomerId       10000 non-null  int64  \n",
      " 2   Surname          10000 non-null  object \n",
      " 3   CreditScore      10000 non-null  int64  \n",
      " 4   Geography        10000 non-null  object \n",
      " 5   Gender           10000 non-null  object \n",
      " 6   Age              10000 non-null  int64  \n",
      " 7   Tenure           10000 non-null  int64  \n",
      " 8   Balance          10000 non-null  float64\n",
      " 9   NumOfProducts    10000 non-null  int64  \n",
      " 10  HasCrCard        10000 non-null  int64  \n",
      " 11  IsActiveMember   10000 non-null  int64  \n",
      " 12  EstimatedSalary  10000 non-null  float64\n",
      " 13  Exited           10000 non-null  int64  \n",
      "dtypes: float64(2), int64(9), object(3)\n",
      "memory usage: 1.1+ MB\n"
     ]
    }
   ],
   "source": [
    "df_data.info()"
   ]
  },
  {
   "cell_type": "code",
   "execution_count": 8,
   "id": "36997061",
   "metadata": {},
   "outputs": [
    {
     "data": {
      "text/plain": [
       "France     5014\n",
       "Germany    2509\n",
       "Spain      2477\n",
       "Name: Geography, dtype: int64"
      ]
     },
     "execution_count": 8,
     "metadata": {},
     "output_type": "execute_result"
    }
   ],
   "source": [
    "df_data['Geography'].value_counts()"
   ]
  },
  {
   "cell_type": "code",
   "execution_count": 9,
   "id": "a32f6b16",
   "metadata": {},
   "outputs": [
    {
     "data": {
      "text/plain": [
       "Male      5457\n",
       "Female    4543\n",
       "Name: Gender, dtype: int64"
      ]
     },
     "execution_count": 9,
     "metadata": {},
     "output_type": "execute_result"
    }
   ],
   "source": [
    "df_data['Gender'].value_counts()"
   ]
  },
  {
   "cell_type": "code",
   "execution_count": 10,
   "id": "b404e4d0",
   "metadata": {},
   "outputs": [
    {
     "data": {
      "text/plain": [
       "array([[<AxesSubplot:title={'center':'RowNumber'}>,\n",
       "        <AxesSubplot:title={'center':'CustomerId'}>,\n",
       "        <AxesSubplot:title={'center':'CreditScore'}>],\n",
       "       [<AxesSubplot:title={'center':'Age'}>,\n",
       "        <AxesSubplot:title={'center':'Tenure'}>,\n",
       "        <AxesSubplot:title={'center':'Balance'}>],\n",
       "       [<AxesSubplot:title={'center':'NumOfProducts'}>,\n",
       "        <AxesSubplot:title={'center':'HasCrCard'}>,\n",
       "        <AxesSubplot:title={'center':'IsActiveMember'}>],\n",
       "       [<AxesSubplot:title={'center':'EstimatedSalary'}>,\n",
       "        <AxesSubplot:title={'center':'Exited'}>, <AxesSubplot:>]],\n",
       "      dtype=object)"
      ]
     },
     "execution_count": 10,
     "metadata": {},
     "output_type": "execute_result"
    },
    {
     "data": {
      "image/png": "[encoded data removed]",
      "text/plain": [
       "<Figure size 1080x1080 with 12 Axes>"
      ]
     },
     "metadata": {
      "needs_background": "light"
     },
     "output_type": "display_data"
    }
   ],
   "source": [
    "df_data.hist(figsize=[15,15])"
   ]
  },
  {
   "cell_type": "code",
   "execution_count": 11,
   "id": "fe02e5c2",
   "metadata": {},
   "outputs": [
    {
     "data": {
      "text/plain": [
       "<AxesSubplot:>"
      ]
     },
     "execution_count": 11,
     "metadata": {},
     "output_type": "execute_result"
    },
    {
     "data": {
      "image/png": "[encoded data removed]",
      "text/plain": [
       "<Figure size 1440x720 with 2 Axes>"
      ]
     },
     "metadata": {
      "needs_background": "light"
     },
     "output_type": "display_data"
    }
   ],
   "source": [
    "df_data_corr = df_data\n",
    "df_data_corr = df_data_corr.corr()\n",
    "df_data_corr = np.round(df_data_corr, 2)\n",
    "df_data_corr[np.abs(df_data_corr) < 0.2] = 0\n",
    "\n",
    "plt_figure = plt.figure(figsize=[20,10])\n",
    "sn.set(font_scale=1.5)\n",
    "sn.heatmap(data=df_data_corr, annot=True, cmap='coolwarm', linewidth=0.5)"
   ]
  },
  {
   "cell_type": "code",
   "execution_count": 12,
   "id": "e66363a1",
   "metadata": {},
   "outputs": [
    {
     "data": {
      "text/plain": [
       "0    0.7963\n",
       "1    0.2037\n",
       "Name: Exited, dtype: float64"
      ]
     },
     "execution_count": 12,
     "metadata": {},
     "output_type": "execute_result"
    }
   ],
   "source": [
    "df_data['Exited'].value_counts(normalize=True)"
   ]
  },
  {
   "cell_type": "markdown",
   "id": "fd28070e",
   "metadata": {},
   "source": [
    "### Exploratory Data Analysis - Выводы:\n",
    "\n",
    "##### Данные не содержат пропусков и аномалий.\n",
    "##### Признаки \"RowNumber\", \"CustomerId\", \"Surname\" могут быть исключены, как не несущение полезной информации об анонимном клиенте.\n",
    "##### Признак \"CreditScore\" следует нормализовать.\n",
    "##### Признак \"Geography\" следует перести в категориальный.\n",
    "##### Признак \"Gender\" также следует перевести в категориальный.\n",
    "##### Признак \"Age\", согласно описанию набора данных, может отражать линейную зависимость: чем больше возраст клиента, тем менее вероятно, что он покинет банк. Однако матрица корреляций сигнализирует об обратной зависимости: увеличение возраста способствует уходу клиента из банка. Попробую разбить данный признак на интервалы по 10 лет и проанализировать корреляцию с целевой переменной вновь.\n",
    "##### Признак \"Tenure\", предварительно, может быть использован в исходном виде: больше лет в банке - меньше вероятность ухода.\n",
    "##### Признаки \"Balance\" и \"EstimatedSalary\" могут быть нормализованы. Однако в целях предотвращения появления отрицательных величин после нормализации, реализую собственную обработку: уменьшу значения в тысячу раз, для понижения размеры данных, и приведу к целочисленному типу.\n",
    "##### Признак \"NumOfProducts\" также может быть использован в исходном виде: больше продуктов - меньше вероятность ухода.\n",
    "##### Признаки \"HasCrCard\" и \"IsActiveMember - категориальные и уже обработаны для ML.\n",
    "##### Признак \"Exited\" - целевая переменная, содержит значительный дисбаланс классов. Upsampling может исказить информативность данных, а downsamling - оставит слишком мало данных для обучения и валидации. Сперва попробую компенсировать дисбаланс настройкой модели. Если этого окажется мало, возможно придётся попробовать применить смешанный upsampling и downsamoling."
   ]
  },
  {
   "cell_type": "markdown",
   "id": "986be86e",
   "metadata": {},
   "source": [
    "## Data Preprocessing"
   ]
  },
  {
   "cell_type": "code",
   "execution_count": 13,
   "id": "ffa8496a",
   "metadata": {
    "scrolled": true
   },
   "outputs": [
    {
     "name": "stdout",
     "output_type": "stream",
     "text": [
      "<class 'pandas.core.frame.DataFrame'>\n",
      "Int64Index: 10000 entries, 0 to 9999\n",
      "Data columns (total 11 columns):\n",
      " #   Column           Non-Null Count  Dtype  \n",
      "---  ------           --------------  -----  \n",
      " 0   CreditScore      10000 non-null  int64  \n",
      " 1   Geography        10000 non-null  object \n",
      " 2   Gender           10000 non-null  object \n",
      " 3   Age              10000 non-null  int64  \n",
      " 4   Tenure           10000 non-null  int64  \n",
      " 5   Balance          10000 non-null  float64\n",
      " 6   NumOfProducts    10000 non-null  int64  \n",
      " 7   HasCrCard        10000 non-null  int64  \n",
      " 8   IsActiveMember   10000 non-null  int64  \n",
      " 9   EstimatedSalary  10000 non-null  float64\n",
      " 10  Exited           10000 non-null  int64  \n",
      "dtypes: float64(2), int64(7), object(2)\n",
      "memory usage: 937.5+ KB\n"
     ]
    }
   ],
   "source": [
    "df_data_preprocessed = df_data.copy()\n",
    "df_data_preprocessed = df_data_preprocessed.drop(columns=['RowNumber', 'CustomerId', 'Surname']).copy()\n",
    "df_data_preprocessed = df_data_preprocessed.drop_duplicates()\n",
    "df_data_preprocessed.info()"
   ]
  },
  {
   "cell_type": "markdown",
   "id": "e051eb6b",
   "metadata": {},
   "source": [
    "##### Разобьём данные на два набора: учебный и валидационный."
   ]
  },
  {
   "cell_type": "code",
   "execution_count": 14,
   "id": "385447d5",
   "metadata": {},
   "outputs": [
    {
     "data": {
      "text/plain": [
       "((8000, 10), (2000, 10), (8000,), (2000,))"
      ]
     },
     "execution_count": 14,
     "metadata": {},
     "output_type": "execute_result"
    }
   ],
   "source": [
    "X = df_data_preprocessed.drop(columns=['Exited']).copy()\n",
    "y = df_data_preprocessed['Exited'].copy()\n",
    "\n",
    "X_train, X_test, y_train, y_test = train_test_split(X, y, train_size=0.8, random_state=1, shuffle=True, stratify=y)\n",
    "\n",
    "X_train.shape, X_test.shape, y_train.shape, y_test.shape"
   ]
  },
  {
   "cell_type": "markdown",
   "id": "940b1673",
   "metadata": {},
   "source": [
    "### Data Preprocessing Class"
   ]
  },
  {
   "cell_type": "code",
   "execution_count": 47,
   "id": "957ae8c3",
   "metadata": {},
   "outputs": [],
   "source": [
    "class data_preprocessing():\n",
    "    def __init__(self):\n",
    "        self.scaler_CreditScore = None\n",
    "        self.ohe_Geography = None\n",
    "        self.ohe_Gender = None\n",
    "        self.ohe_Age = None\n",
    "    \n",
    "    def feature_CreditScore(self, df):\n",
    "#         Нормализация признака \"CreditScore\".\n",
    "        if self.scaler_CreditScore is None:\n",
    "            self.scaler_CreditScore = StandardScaler()\n",
    "            df['CreditScore'] = self.scaler_CreditScore.fit_transform(df[['CreditScore']])\n",
    "        else:\n",
    "            df['CreditScore'] = self.scaler_CreditScore.transform(df[['CreditScore']]).copy()\n",
    "        return df\n",
    "    \n",
    "    def feature_Geography(self, df):\n",
    "#         Перевод признака \"Geography\" в категориальный.\n",
    "        if self.ohe_Geography is None:\n",
    "            self.ohe_Geography = OneHotEncoder()\n",
    "            df_Geography = self.ohe_Geography.fit_transform(df[['Geography']])\n",
    "        else:\n",
    "            df_Geography = self.ohe_Geography.transform(df[['Geography']])\n",
    "        df_Geography = pd.DataFrame(df_Geography.toarray(), columns=self.ohe_Geography.categories_[0])\n",
    "        df_Geography.index = df.index\n",
    "        \n",
    "        df = df.join(df_Geography).copy()\n",
    "        df = df.drop(columns=['Geography'])\n",
    "        return df\n",
    "    \n",
    "    def feature_Gender(self, df):\n",
    "#         Перевод признака \"Gender\" в категориальный.\n",
    "        if self.ohe_Gender is None:\n",
    "            self.ohe_Gender = OneHotEncoder()\n",
    "            df_Gender = self.ohe_Gender.fit_transform(df[['Gender']])\n",
    "        else:\n",
    "            df_Gender = self.ohe_Gender.transform(df[['Gender']])\n",
    "        df_Gender = pd.DataFrame(df_Gender.toarray(), columns=self.ohe_Gender.categories_[0])\n",
    "        df_Gender.index = df.index\n",
    "        \n",
    "        df = df.join(df_Gender).copy()\n",
    "        df = df.drop(columns=['Gender', 'Female']).copy()\n",
    "        return df\n",
    "    \n",
    "    def feature_Age(self, df):\n",
    "#         Перевод возраста в возрастные группы \"Age_p\".\n",
    "        df['Age_p'] = 0\n",
    "        df.loc[(df['Age'] >= 24) & (df['Age'] <= 30), 'Age_p'] = 1\n",
    "        df.loc[(df['Age'] >= 31) & (df['Age'] <= 40), 'Age_p'] = 2\n",
    "        df.loc[(df['Age'] >= 41) & (df['Age'] <= 50), 'Age_p'] = 3\n",
    "        df.loc[(df['Age'] >= 51) & (df['Age'] <= 60), 'Age_p'] = 4\n",
    "        df.loc[(df['Age'] >= 61) & (df['Age'] <= 70), 'Age_p'] = 5\n",
    "        df.loc[(df['Age'] >= 71), 'Age_p'] = 6\n",
    "        df = df.drop(columns=['Age']).copy()\n",
    "        \n",
    "#         Перевод признака \"Age_p\" в категориальный, так как каждая группа может иметь собственное влияние.\n",
    "        if self.ohe_Age is None:\n",
    "            self.ohe_Age = OneHotEncoder()\n",
    "            df_Age = self.ohe_Age.fit_transform(df[['Age_p']])\n",
    "        else:\n",
    "            df_Age = self.ohe_Age.transform(df[['Age_p']])\n",
    "        df_Age = pd.DataFrame(df_Age.toarray(), columns=self.ohe_Age.categories_[0])\n",
    "        df_Age.index = df.index\n",
    "        df_Age = df_Age.add_prefix('Age_')\n",
    "        \n",
    "        df = df.join(df_Age).copy()\n",
    "        df = df.drop(columns=['Age_p']).copy()\n",
    "        return df\n",
    "    \n",
    "    def feature_Balance(self, df):\n",
    "#         Сжатие признака \"Balance\".\n",
    "        df['Balance'] = np.round(df['Balance'] / 1000, 0).astype(int)\n",
    "        return df\n",
    "    \n",
    "    def feature_EstimatedSalary(self, df):\n",
    "#         Сжатие признака \"EstimatedSalary\".\n",
    "        df['EstimatedSalary'] = np.round(df['EstimatedSalary'] / 1000, 0).astype(int)\n",
    "        return df\n",
    "        \n",
    "    def fit(self, df):\n",
    "#         Метод первичной обработки обучающего набора данных.\n",
    "        df = self.feature_CreditScore(df)\n",
    "        df = self.feature_Geography(df)\n",
    "        df = self.feature_Gender(df)\n",
    "        df = self.feature_Age(df)\n",
    "        df = self.feature_Balance(df)\n",
    "        df = self.feature_EstimatedSalary(df)\n",
    "        return df\n",
    "    \n",
    "    def transform(self, df):\n",
    "#         Метод вторичной обработки валидационного набора данных.\n",
    "        df = self.feature_CreditScore(df)\n",
    "        df = self.feature_Geography(df)\n",
    "        df = self.feature_Gender(df)\n",
    "        df = self.feature_Age(df)\n",
    "        df = self.feature_Balance(df)\n",
    "        df = self.feature_EstimatedSalary(df)\n",
    "        return df"
   ]
  },
  {
   "cell_type": "markdown",
   "id": "318e443f",
   "metadata": {},
   "source": [
    "##### Выполним предобработку наборов данных."
   ]
  },
  {
   "cell_type": "code",
   "execution_count": 41,
   "id": "59bf47e6",
   "metadata": {},
   "outputs": [],
   "source": [
    "dp = data_preprocessing()\n",
    "X_train_p = dp.fit(X_train)\n",
    "X_test_p = dp.transform(X_test)"
   ]
  },
  {
   "cell_type": "code",
   "execution_count": 42,
   "id": "928462f9",
   "metadata": {},
   "outputs": [
    {
     "data": {
      "text/html": [
       "<div>\n",
       "<style scoped>\n",
       "    .dataframe tbody tr th:only-of-type {\n",
       "        vertical-align: middle;\n",
       "    }\n",
       "\n",
       "    .dataframe tbody tr th {\n",
       "        vertical-align: top;\n",
       "    }\n",
       "\n",
       "    .dataframe thead th {\n",
       "        text-align: right;\n",
       "    }\n",
       "</style>\n",
       "<table border=\"1\" class=\"dataframe\">\n",
       "  <thead>\n",
       "    <tr style=\"text-align: right;\">\n",
       "      <th></th>\n",
       "      <th>CreditScore</th>\n",
       "      <th>Tenure</th>\n",
       "      <th>Balance</th>\n",
       "      <th>NumOfProducts</th>\n",
       "      <th>HasCrCard</th>\n",
       "      <th>IsActiveMember</th>\n",
       "      <th>EstimatedSalary</th>\n",
       "      <th>France</th>\n",
       "      <th>Germany</th>\n",
       "      <th>Spain</th>\n",
       "      <th>Male</th>\n",
       "      <th>Age_0</th>\n",
       "      <th>Age_1</th>\n",
       "      <th>Age_2</th>\n",
       "      <th>Age_3</th>\n",
       "      <th>Age_4</th>\n",
       "      <th>Age_5</th>\n",
       "      <th>Age_6</th>\n",
       "    </tr>\n",
       "  </thead>\n",
       "  <tbody>\n",
       "    <tr>\n",
       "      <th>4256</th>\n",
       "      <td>-0.556600</td>\n",
       "      <td>9</td>\n",
       "      <td>134</td>\n",
       "      <td>1</td>\n",
       "      <td>1</td>\n",
       "      <td>1</td>\n",
       "      <td>13</td>\n",
       "      <td>0.0</td>\n",
       "      <td>0.0</td>\n",
       "      <td>1.0</td>\n",
       "      <td>0.0</td>\n",
       "      <td>0.0</td>\n",
       "      <td>0.0</td>\n",
       "      <td>0.0</td>\n",
       "      <td>0.0</td>\n",
       "      <td>0.0</td>\n",
       "      <td>0.0</td>\n",
       "      <td>1.0</td>\n",
       "    </tr>\n",
       "    <tr>\n",
       "      <th>9151</th>\n",
       "      <td>-0.370472</td>\n",
       "      <td>1</td>\n",
       "      <td>0</td>\n",
       "      <td>2</td>\n",
       "      <td>1</td>\n",
       "      <td>0</td>\n",
       "      <td>192</td>\n",
       "      <td>1.0</td>\n",
       "      <td>0.0</td>\n",
       "      <td>0.0</td>\n",
       "      <td>1.0</td>\n",
       "      <td>0.0</td>\n",
       "      <td>0.0</td>\n",
       "      <td>0.0</td>\n",
       "      <td>1.0</td>\n",
       "      <td>0.0</td>\n",
       "      <td>0.0</td>\n",
       "      <td>0.0</td>\n",
       "    </tr>\n",
       "    <tr>\n",
       "      <th>696</th>\n",
       "      <td>-2.118010</td>\n",
       "      <td>1</td>\n",
       "      <td>64</td>\n",
       "      <td>1</td>\n",
       "      <td>1</td>\n",
       "      <td>1</td>\n",
       "      <td>77</td>\n",
       "      <td>0.0</td>\n",
       "      <td>0.0</td>\n",
       "      <td>1.0</td>\n",
       "      <td>1.0</td>\n",
       "      <td>0.0</td>\n",
       "      <td>0.0</td>\n",
       "      <td>0.0</td>\n",
       "      <td>0.0</td>\n",
       "      <td>0.0</td>\n",
       "      <td>1.0</td>\n",
       "      <td>0.0</td>\n",
       "    </tr>\n",
       "    <tr>\n",
       "      <th>4898</th>\n",
       "      <td>-1.094304</td>\n",
       "      <td>7</td>\n",
       "      <td>0</td>\n",
       "      <td>1</td>\n",
       "      <td>0</td>\n",
       "      <td>1</td>\n",
       "      <td>161</td>\n",
       "      <td>1.0</td>\n",
       "      <td>0.0</td>\n",
       "      <td>0.0</td>\n",
       "      <td>0.0</td>\n",
       "      <td>0.0</td>\n",
       "      <td>0.0</td>\n",
       "      <td>1.0</td>\n",
       "      <td>0.0</td>\n",
       "      <td>0.0</td>\n",
       "      <td>0.0</td>\n",
       "      <td>0.0</td>\n",
       "    </tr>\n",
       "    <tr>\n",
       "      <th>6427</th>\n",
       "      <td>0.994469</td>\n",
       "      <td>2</td>\n",
       "      <td>0</td>\n",
       "      <td>2</td>\n",
       "      <td>1</td>\n",
       "      <td>0</td>\n",
       "      <td>143</td>\n",
       "      <td>1.0</td>\n",
       "      <td>0.0</td>\n",
       "      <td>0.0</td>\n",
       "      <td>1.0</td>\n",
       "      <td>0.0</td>\n",
       "      <td>0.0</td>\n",
       "      <td>1.0</td>\n",
       "      <td>0.0</td>\n",
       "      <td>0.0</td>\n",
       "      <td>0.0</td>\n",
       "      <td>0.0</td>\n",
       "    </tr>\n",
       "  </tbody>\n",
       "</table>\n",
       "</div>"
      ],
      "text/plain": [
       "      CreditScore  Tenure  Balance  NumOfProducts  HasCrCard  IsActiveMember  \\\n",
       "4256    -0.556600       9      134              1          1               1   \n",
       "9151    -0.370472       1        0              2          1               0   \n",
       "696     -2.118010       1       64              1          1               1   \n",
       "4898    -1.094304       7        0              1          0               1   \n",
       "6427     0.994469       2        0              2          1               0   \n",
       "\n",
       "      EstimatedSalary  France  Germany  Spain  Male  Age_0  Age_1  Age_2  \\\n",
       "4256               13     0.0      0.0    1.0   0.0    0.0    0.0    0.0   \n",
       "9151              192     1.0      0.0    0.0   1.0    0.0    0.0    0.0   \n",
       "696                77     0.0      0.0    1.0   1.0    0.0    0.0    0.0   \n",
       "4898              161     1.0      0.0    0.0   0.0    0.0    0.0    1.0   \n",
       "6427              143     1.0      0.0    0.0   1.0    0.0    0.0    1.0   \n",
       "\n",
       "      Age_3  Age_4  Age_5  Age_6  \n",
       "4256    0.0    0.0    0.0    1.0  \n",
       "9151    1.0    0.0    0.0    0.0  \n",
       "696     0.0    0.0    1.0    0.0  \n",
       "4898    0.0    0.0    0.0    0.0  \n",
       "6427    0.0    0.0    0.0    0.0  "
      ]
     },
     "execution_count": 42,
     "metadata": {},
     "output_type": "execute_result"
    }
   ],
   "source": [
    "X_train_p.head()"
   ]
  },
  {
   "cell_type": "code",
   "execution_count": 43,
   "id": "3cd478aa",
   "metadata": {},
   "outputs": [
    {
     "data": {
      "text/html": [
       "<div>\n",
       "<style scoped>\n",
       "    .dataframe tbody tr th:only-of-type {\n",
       "        vertical-align: middle;\n",
       "    }\n",
       "\n",
       "    .dataframe tbody tr th {\n",
       "        vertical-align: top;\n",
       "    }\n",
       "\n",
       "    .dataframe thead th {\n",
       "        text-align: right;\n",
       "    }\n",
       "</style>\n",
       "<table border=\"1\" class=\"dataframe\">\n",
       "  <thead>\n",
       "    <tr style=\"text-align: right;\">\n",
       "      <th></th>\n",
       "      <th>CreditScore</th>\n",
       "      <th>Tenure</th>\n",
       "      <th>Balance</th>\n",
       "      <th>NumOfProducts</th>\n",
       "      <th>HasCrCard</th>\n",
       "      <th>IsActiveMember</th>\n",
       "      <th>EstimatedSalary</th>\n",
       "      <th>France</th>\n",
       "      <th>Germany</th>\n",
       "      <th>Spain</th>\n",
       "      <th>Male</th>\n",
       "      <th>Age_0</th>\n",
       "      <th>Age_1</th>\n",
       "      <th>Age_2</th>\n",
       "      <th>Age_3</th>\n",
       "      <th>Age_4</th>\n",
       "      <th>Age_5</th>\n",
       "      <th>Age_6</th>\n",
       "    </tr>\n",
       "  </thead>\n",
       "  <tbody>\n",
       "    <tr>\n",
       "      <th>4466</th>\n",
       "      <td>-2.448905</td>\n",
       "      <td>2</td>\n",
       "      <td>0</td>\n",
       "      <td>2</td>\n",
       "      <td>1</td>\n",
       "      <td>1</td>\n",
       "      <td>61</td>\n",
       "      <td>0.0</td>\n",
       "      <td>0.0</td>\n",
       "      <td>1.0</td>\n",
       "      <td>1.0</td>\n",
       "      <td>0.0</td>\n",
       "      <td>0.0</td>\n",
       "      <td>1.0</td>\n",
       "      <td>0.0</td>\n",
       "      <td>0.0</td>\n",
       "      <td>0.0</td>\n",
       "      <td>0.0</td>\n",
       "    </tr>\n",
       "    <tr>\n",
       "      <th>3754</th>\n",
       "      <td>-1.187368</td>\n",
       "      <td>8</td>\n",
       "      <td>119</td>\n",
       "      <td>1</td>\n",
       "      <td>1</td>\n",
       "      <td>1</td>\n",
       "      <td>136</td>\n",
       "      <td>0.0</td>\n",
       "      <td>0.0</td>\n",
       "      <td>1.0</td>\n",
       "      <td>1.0</td>\n",
       "      <td>0.0</td>\n",
       "      <td>0.0</td>\n",
       "      <td>1.0</td>\n",
       "      <td>0.0</td>\n",
       "      <td>0.0</td>\n",
       "      <td>0.0</td>\n",
       "      <td>0.0</td>\n",
       "    </tr>\n",
       "    <tr>\n",
       "      <th>9601</th>\n",
       "      <td>0.094849</td>\n",
       "      <td>7</td>\n",
       "      <td>90</td>\n",
       "      <td>1</td>\n",
       "      <td>1</td>\n",
       "      <td>0</td>\n",
       "      <td>137</td>\n",
       "      <td>1.0</td>\n",
       "      <td>0.0</td>\n",
       "      <td>0.0</td>\n",
       "      <td>0.0</td>\n",
       "      <td>0.0</td>\n",
       "      <td>0.0</td>\n",
       "      <td>1.0</td>\n",
       "      <td>0.0</td>\n",
       "      <td>0.0</td>\n",
       "      <td>0.0</td>\n",
       "      <td>0.0</td>\n",
       "    </tr>\n",
       "    <tr>\n",
       "      <th>9758</th>\n",
       "      <td>-0.970218</td>\n",
       "      <td>4</td>\n",
       "      <td>126</td>\n",
       "      <td>1</td>\n",
       "      <td>1</td>\n",
       "      <td>1</td>\n",
       "      <td>75</td>\n",
       "      <td>0.0</td>\n",
       "      <td>1.0</td>\n",
       "      <td>0.0</td>\n",
       "      <td>0.0</td>\n",
       "      <td>0.0</td>\n",
       "      <td>0.0</td>\n",
       "      <td>0.0</td>\n",
       "      <td>1.0</td>\n",
       "      <td>0.0</td>\n",
       "      <td>0.0</td>\n",
       "      <td>0.0</td>\n",
       "    </tr>\n",
       "    <tr>\n",
       "      <th>8577</th>\n",
       "      <td>1.077193</td>\n",
       "      <td>1</td>\n",
       "      <td>136</td>\n",
       "      <td>1</td>\n",
       "      <td>1</td>\n",
       "      <td>1</td>\n",
       "      <td>122</td>\n",
       "      <td>0.0</td>\n",
       "      <td>1.0</td>\n",
       "      <td>0.0</td>\n",
       "      <td>1.0</td>\n",
       "      <td>0.0</td>\n",
       "      <td>0.0</td>\n",
       "      <td>0.0</td>\n",
       "      <td>0.0</td>\n",
       "      <td>0.0</td>\n",
       "      <td>1.0</td>\n",
       "      <td>0.0</td>\n",
       "    </tr>\n",
       "  </tbody>\n",
       "</table>\n",
       "</div>"
      ],
      "text/plain": [
       "      CreditScore  Tenure  Balance  NumOfProducts  HasCrCard  IsActiveMember  \\\n",
       "4466    -2.448905       2        0              2          1               1   \n",
       "3754    -1.187368       8      119              1          1               1   \n",
       "9601     0.094849       7       90              1          1               0   \n",
       "9758    -0.970218       4      126              1          1               1   \n",
       "8577     1.077193       1      136              1          1               1   \n",
       "\n",
       "      EstimatedSalary  France  Germany  Spain  Male  Age_0  Age_1  Age_2  \\\n",
       "4466               61     0.0      0.0    1.0   1.0    0.0    0.0    1.0   \n",
       "3754              136     0.0      0.0    1.0   1.0    0.0    0.0    1.0   \n",
       "9601              137     1.0      0.0    0.0   0.0    0.0    0.0    1.0   \n",
       "9758               75     0.0      1.0    0.0   0.0    0.0    0.0    0.0   \n",
       "8577              122     0.0      1.0    0.0   1.0    0.0    0.0    0.0   \n",
       "\n",
       "      Age_3  Age_4  Age_5  Age_6  \n",
       "4466    0.0    0.0    0.0    0.0  \n",
       "3754    0.0    0.0    0.0    0.0  \n",
       "9601    0.0    0.0    0.0    0.0  \n",
       "9758    1.0    0.0    0.0    0.0  \n",
       "8577    0.0    0.0    1.0    0.0  "
      ]
     },
     "execution_count": 43,
     "metadata": {},
     "output_type": "execute_result"
    }
   ],
   "source": [
    "X_test_p.head()"
   ]
  },
  {
   "cell_type": "code",
   "execution_count": 44,
   "id": "24e84c0b",
   "metadata": {},
   "outputs": [
    {
     "name": "stdout",
     "output_type": "stream",
     "text": [
      "Initial memory usage of dataframe:\t1.35 Mb\n",
      "Final memory usage of dataframe:\t0.74 Mb\n",
      "Memory usage has been decreased by:\t45.19 %\n",
      "<class 'pandas.core.frame.DataFrame'>\n",
      "Int64Index: 8000 entries, 4256 to 8407\n",
      "Data columns (total 18 columns):\n",
      " #   Column           Non-Null Count  Dtype  \n",
      "---  ------           --------------  -----  \n",
      " 0   CreditScore      8000 non-null   float32\n",
      " 1   Tenure           8000 non-null   int8   \n",
      " 2   Balance          8000 non-null   int16  \n",
      " 3   NumOfProducts    8000 non-null   int8   \n",
      " 4   HasCrCard        8000 non-null   int8   \n",
      " 5   IsActiveMember   8000 non-null   int8   \n",
      " 6   EstimatedSalary  8000 non-null   int16  \n",
      " 7   France           8000 non-null   float32\n",
      " 8   Germany          8000 non-null   float32\n",
      " 9   Spain            8000 non-null   float32\n",
      " 10  Male             8000 non-null   float32\n",
      " 11  Age_0            8000 non-null   float32\n",
      " 12  Age_1            8000 non-null   float32\n",
      " 13  Age_2            8000 non-null   float32\n",
      " 14  Age_3            8000 non-null   float32\n",
      " 15  Age_4            8000 non-null   float32\n",
      " 16  Age_5            8000 non-null   float32\n",
      " 17  Age_6            8000 non-null   float32\n",
      "dtypes: float32(12), int16(2), int8(4)\n",
      "memory usage: 758.0 KB\n"
     ]
    }
   ],
   "source": [
    "X_train_p = reduce_memory_usage(X_train_p)\n",
    "X_train_p.info()"
   ]
  },
  {
   "cell_type": "code",
   "execution_count": 45,
   "id": "4751f269",
   "metadata": {},
   "outputs": [
    {
     "name": "stdout",
     "output_type": "stream",
     "text": [
      "Initial memory usage of dataframe:\t0.338 Mb\n",
      "Final memory usage of dataframe:\t0.185 Mb\n",
      "Memory usage has been decreased by:\t45.187 %\n",
      "<class 'pandas.core.frame.DataFrame'>\n",
      "Int64Index: 2000 entries, 4466 to 8350\n",
      "Data columns (total 18 columns):\n",
      " #   Column           Non-Null Count  Dtype  \n",
      "---  ------           --------------  -----  \n",
      " 0   CreditScore      2000 non-null   float32\n",
      " 1   Tenure           2000 non-null   int8   \n",
      " 2   Balance          2000 non-null   int16  \n",
      " 3   NumOfProducts    2000 non-null   int8   \n",
      " 4   HasCrCard        2000 non-null   int8   \n",
      " 5   IsActiveMember   2000 non-null   int8   \n",
      " 6   EstimatedSalary  2000 non-null   int16  \n",
      " 7   France           2000 non-null   float32\n",
      " 8   Germany          2000 non-null   float32\n",
      " 9   Spain            2000 non-null   float32\n",
      " 10  Male             2000 non-null   float32\n",
      " 11  Age_0            2000 non-null   float32\n",
      " 12  Age_1            2000 non-null   float32\n",
      " 13  Age_2            2000 non-null   float32\n",
      " 14  Age_3            2000 non-null   float32\n",
      " 15  Age_4            2000 non-null   float32\n",
      " 16  Age_5            2000 non-null   float32\n",
      " 17  Age_6            2000 non-null   float32\n",
      "dtypes: float32(12), int16(2), int8(4)\n",
      "memory usage: 189.5 KB\n"
     ]
    }
   ],
   "source": [
    "X_test_p = reduce_memory_usage(X_test_p)\n",
    "X_test_p.info()"
   ]
  },
  {
   "cell_type": "markdown",
   "id": "003811a2",
   "metadata": {},
   "source": [
    "## Model Building"
   ]
  },
  {
   "cell_type": "markdown",
   "id": "be23e361",
   "metadata": {},
   "source": [
    "##### С помощью GridSearchCV выполним эксперимент с перебором кучи параметров, чтобы понять, какие сочетания дают лучшую метрику."
   ]
  },
  {
   "cell_type": "code",
   "execution_count": 62,
   "id": "4ca184e6",
   "metadata": {},
   "outputs": [
    {
     "name": "stderr",
     "output_type": "stream",
     "text": [
      "c:\\users\\sergeyz06\\appdata\\local\\programs\\python\\python39\\lib\\site-packages\\sklearn\\model_selection\\_validation.py:372: FitFailedWarning: \n",
      "350 fits failed out of a total of 660.\n",
      "The score on these train-test partitions for these parameters will be set to nan.\n",
      "If these failures are not expected, you can try to debug them by setting error_score='raise'.\n",
      "\n",
      "Below are more details about the failures:\n",
      "--------------------------------------------------------------------------------\n",
      "110 fits failed with the following error:\n",
      "Traceback (most recent call last):\n",
      "  File \"c:\\users\\sergeyz06\\appdata\\local\\programs\\python\\python39\\lib\\site-packages\\sklearn\\model_selection\\_validation.py\", line 681, in _fit_and_score\n",
      "    estimator.fit(X_train, y_train, **fit_params)\n",
      "  File \"c:\\users\\sergeyz06\\appdata\\local\\programs\\python\\python39\\lib\\site-packages\\sklearn\\linear_model\\_logistic.py\", line 1461, in fit\n",
      "    solver = _check_solver(self.solver, self.penalty, self.dual)\n",
      "  File \"c:\\users\\sergeyz06\\appdata\\local\\programs\\python\\python39\\lib\\site-packages\\sklearn\\linear_model\\_logistic.py\", line 447, in _check_solver\n",
      "    raise ValueError(\n",
      "ValueError: Solver lbfgs supports only 'l2' or 'none' penalties, got l1 penalty.\n",
      "\n",
      "--------------------------------------------------------------------------------\n",
      "10 fits failed with the following error:\n",
      "Traceback (most recent call last):\n",
      "  File \"c:\\users\\sergeyz06\\appdata\\local\\programs\\python\\python39\\lib\\site-packages\\sklearn\\model_selection\\_validation.py\", line 681, in _fit_and_score\n",
      "    estimator.fit(X_train, y_train, **fit_params)\n",
      "  File \"c:\\users\\sergeyz06\\appdata\\local\\programs\\python\\python39\\lib\\site-packages\\sklearn\\linear_model\\_logistic.py\", line 1589, in fit\n",
      "    fold_coefs_ = Parallel(\n",
      "  File \"c:\\users\\sergeyz06\\appdata\\local\\programs\\python\\python39\\lib\\site-packages\\joblib\\parallel.py\", line 1043, in __call__\n",
      "    if self.dispatch_one_batch(iterator):\n",
      "  File \"c:\\users\\sergeyz06\\appdata\\local\\programs\\python\\python39\\lib\\site-packages\\joblib\\parallel.py\", line 861, in dispatch_one_batch\n",
      "    self._dispatch(tasks)\n",
      "  File \"c:\\users\\sergeyz06\\appdata\\local\\programs\\python\\python39\\lib\\site-packages\\joblib\\parallel.py\", line 779, in _dispatch\n",
      "    job = self._backend.apply_async(batch, callback=cb)\n",
      "  File \"c:\\users\\sergeyz06\\appdata\\local\\programs\\python\\python39\\lib\\site-packages\\joblib\\_parallel_backends.py\", line 208, in apply_async\n",
      "    result = ImmediateResult(func)\n",
      "  File \"c:\\users\\sergeyz06\\appdata\\local\\programs\\python\\python39\\lib\\site-packages\\joblib\\_parallel_backends.py\", line 572, in __init__\n",
      "    self.results = batch()\n",
      "  File \"c:\\users\\sergeyz06\\appdata\\local\\programs\\python\\python39\\lib\\site-packages\\joblib\\parallel.py\", line 262, in __call__\n",
      "    return [func(*args, **kwargs)\n",
      "  File \"c:\\users\\sergeyz06\\appdata\\local\\programs\\python\\python39\\lib\\site-packages\\joblib\\parallel.py\", line 262, in <listcomp>\n",
      "    return [func(*args, **kwargs)\n",
      "  File \"c:\\users\\sergeyz06\\appdata\\local\\programs\\python\\python39\\lib\\site-packages\\sklearn\\utils\\fixes.py\", line 211, in __call__\n",
      "    return self.function(*args, **kwargs)\n",
      "  File \"c:\\users\\sergeyz06\\appdata\\local\\programs\\python\\python39\\lib\\site-packages\\sklearn\\linear_model\\_logistic.py\", line 806, in _logistic_regression_path\n",
      "    opt_res = optimize.minimize(\n",
      "  File \"c:\\users\\sergeyz06\\appdata\\local\\programs\\python\\python39\\lib\\site-packages\\scipy\\optimize\\_minimize.py\", line 623, in minimize\n",
      "    return _minimize_lbfgsb(fun, x0, args, jac, bounds,\n",
      "  File \"c:\\users\\sergeyz06\\appdata\\local\\programs\\python\\python39\\lib\\site-packages\\scipy\\optimize\\lbfgsb.py\", line 360, in _minimize_lbfgsb\n",
      "    f, g = func_and_grad(x)\n",
      "  File \"c:\\users\\sergeyz06\\appdata\\local\\programs\\python\\python39\\lib\\site-packages\\scipy\\optimize\\_differentiable_functions.py\", line 267, in fun_and_grad\n",
      "    self._update_fun()\n",
      "  File \"c:\\users\\sergeyz06\\appdata\\local\\programs\\python\\python39\\lib\\site-packages\\scipy\\optimize\\_differentiable_functions.py\", line 233, in _update_fun\n",
      "    self._update_fun_impl()\n",
      "  File \"c:\\users\\sergeyz06\\appdata\\local\\programs\\python\\python39\\lib\\site-packages\\scipy\\optimize\\_differentiable_functions.py\", line 137, in update_fun\n",
      "    self.f = fun_wrapped(self.x)\n",
      "  File \"c:\\users\\sergeyz06\\appdata\\local\\programs\\python\\python39\\lib\\site-packages\\scipy\\optimize\\_differentiable_functions.py\", line 134, in fun_wrapped\n",
      "    return fun(np.copy(x), *args)\n",
      "  File \"c:\\users\\sergeyz06\\appdata\\local\\programs\\python\\python39\\lib\\site-packages\\scipy\\optimize\\optimize.py\", line 74, in __call__\n",
      "    self._compute_if_needed(x, *args)\n",
      "  File \"c:\\users\\sergeyz06\\appdata\\local\\programs\\python\\python39\\lib\\site-packages\\scipy\\optimize\\optimize.py\", line 68, in _compute_if_needed\n",
      "    fg = self.fun(x, *args)\n",
      "  File \"c:\\users\\sergeyz06\\appdata\\local\\programs\\python\\python39\\lib\\site-packages\\sklearn\\linear_model\\_logistic.py\", line 122, in _logistic_loss_and_grad\n",
      "    out = -np.sum(sample_weight * log_logistic(yz)) + 0.5 * alpha * np.dot(w, w)\n",
      "  File \"c:\\users\\sergeyz06\\appdata\\local\\programs\\python\\python39\\lib\\site-packages\\sklearn\\utils\\extmath.py\", line 786, in log_logistic\n",
      "    X = check_array(X, dtype=np.float64)\n",
      "  File \"c:\\users\\sergeyz06\\appdata\\local\\programs\\python\\python39\\lib\\site-packages\\sklearn\\utils\\validation.py\", line 792, in check_array\n",
      "    _assert_all_finite(array, allow_nan=force_all_finite == \"allow-nan\")\n",
      "  File \"c:\\users\\sergeyz06\\appdata\\local\\programs\\python\\python39\\lib\\site-packages\\sklearn\\utils\\validation.py\", line 114, in _assert_all_finite\n",
      "    raise ValueError(\n",
      "ValueError: Input contains NaN, infinity or a value too large for dtype('float64').\n",
      "\n",
      "--------------------------------------------------------------------------------\n",
      "10 fits failed with the following error:\n",
      "Traceback (most recent call last):\n",
      "  File \"c:\\users\\sergeyz06\\appdata\\local\\programs\\python\\python39\\lib\\site-packages\\sklearn\\model_selection\\_validation.py\", line 681, in _fit_and_score\n",
      "    estimator.fit(X_train, y_train, **fit_params)\n",
      "  File \"c:\\users\\sergeyz06\\appdata\\local\\programs\\python\\python39\\lib\\site-packages\\sklearn\\linear_model\\_logistic.py\", line 1589, in fit\n",
      "    fold_coefs_ = Parallel(\n",
      "  File \"c:\\users\\sergeyz06\\appdata\\local\\programs\\python\\python39\\lib\\site-packages\\joblib\\parallel.py\", line 1043, in __call__\n",
      "    if self.dispatch_one_batch(iterator):\n",
      "  File \"c:\\users\\sergeyz06\\appdata\\local\\programs\\python\\python39\\lib\\site-packages\\joblib\\parallel.py\", line 861, in dispatch_one_batch\n",
      "    self._dispatch(tasks)\n",
      "  File \"c:\\users\\sergeyz06\\appdata\\local\\programs\\python\\python39\\lib\\site-packages\\joblib\\parallel.py\", line 779, in _dispatch\n",
      "    job = self._backend.apply_async(batch, callback=cb)\n",
      "  File \"c:\\users\\sergeyz06\\appdata\\local\\programs\\python\\python39\\lib\\site-packages\\joblib\\_parallel_backends.py\", line 208, in apply_async\n",
      "    result = ImmediateResult(func)\n",
      "  File \"c:\\users\\sergeyz06\\appdata\\local\\programs\\python\\python39\\lib\\site-packages\\joblib\\_parallel_backends.py\", line 572, in __init__\n",
      "    self.results = batch()\n",
      "  File \"c:\\users\\sergeyz06\\appdata\\local\\programs\\python\\python39\\lib\\site-packages\\joblib\\parallel.py\", line 262, in __call__\n",
      "    return [func(*args, **kwargs)\n",
      "  File \"c:\\users\\sergeyz06\\appdata\\local\\programs\\python\\python39\\lib\\site-packages\\joblib\\parallel.py\", line 262, in <listcomp>\n",
      "    return [func(*args, **kwargs)\n",
      "  File \"c:\\users\\sergeyz06\\appdata\\local\\programs\\python\\python39\\lib\\site-packages\\sklearn\\utils\\fixes.py\", line 211, in __call__\n",
      "    return self.function(*args, **kwargs)\n",
      "  File \"c:\\users\\sergeyz06\\appdata\\local\\programs\\python\\python39\\lib\\site-packages\\sklearn\\linear_model\\_logistic.py\", line 864, in _logistic_regression_path\n",
      "    w0, n_iter_i, warm_start_sag = sag_solver(\n",
      "  File \"c:\\users\\sergeyz06\\appdata\\local\\programs\\python\\python39\\lib\\site-packages\\sklearn\\linear_model\\_sag.py\", line 327, in sag_solver\n",
      "    num_seen, n_iter_ = sag(\n",
      "  File \"sklearn\\linear_model\\_sag_fast.pyx\", line 951, in sklearn.linear_model._sag_fast.sag32\n",
      "ValueError: Floating-point under-/overflow occurred at epoch #1. Scaling input data with StandardScaler or MinMaxScaler might help.\n",
      "\n",
      "--------------------------------------------------------------------------------\n",
      "110 fits failed with the following error:\n",
      "Traceback (most recent call last):\n",
      "  File \"c:\\users\\sergeyz06\\appdata\\local\\programs\\python\\python39\\lib\\site-packages\\sklearn\\model_selection\\_validation.py\", line 681, in _fit_and_score\n",
      "    estimator.fit(X_train, y_train, **fit_params)\n",
      "  File \"c:\\users\\sergeyz06\\appdata\\local\\programs\\python\\python39\\lib\\site-packages\\sklearn\\linear_model\\_logistic.py\", line 1461, in fit\n",
      "    solver = _check_solver(self.solver, self.penalty, self.dual)\n",
      "  File \"c:\\users\\sergeyz06\\appdata\\local\\programs\\python\\python39\\lib\\site-packages\\sklearn\\linear_model\\_logistic.py\", line 447, in _check_solver\n",
      "    raise ValueError(\n",
      "ValueError: Solver lbfgs supports only 'l2' or 'none' penalties, got elasticnet penalty.\n",
      "\n",
      "--------------------------------------------------------------------------------\n",
      "110 fits failed with the following error:\n",
      "Traceback (most recent call last):\n",
      "  File \"c:\\users\\sergeyz06\\appdata\\local\\programs\\python\\python39\\lib\\site-packages\\sklearn\\model_selection\\_validation.py\", line 681, in _fit_and_score\n",
      "    estimator.fit(X_train, y_train, **fit_params)\n",
      "  File \"c:\\users\\sergeyz06\\appdata\\local\\programs\\python\\python39\\lib\\site-packages\\sklearn\\linear_model\\_logistic.py\", line 1471, in fit\n",
      "    raise ValueError(\n",
      "ValueError: l1_ratio must be between 0 and 1; got (l1_ratio=None)\n",
      "\n",
      "  warnings.warn(some_fits_failed_message, FitFailedWarning)\n",
      "c:\\users\\sergeyz06\\appdata\\local\\programs\\python\\python39\\lib\\site-packages\\sklearn\\model_selection\\_search.py:969: UserWarning: One or more of the test scores are non-finite: [       nan 0.20311526        nan        nan        nan        nan\n",
      "        nan 0.20311526        nan        nan        nan        nan\n",
      "        nan 0.50718219 0.50775375 0.50785438        nan        nan\n",
      "        nan 0.49880849 0.50751973 0.50521029        nan        nan\n",
      "        nan 0.50991731 0.50694921 0.51035219        nan        nan\n",
      "        nan 0.50216886 0.50773426 0.50674463        nan        nan\n",
      "        nan 0.51114715 0.50717265 0.51035219        nan        nan\n",
      "        nan 0.50293727 0.50797862 0.50674463        nan        nan\n",
      "        nan 0.51159751 0.50651691 0.51035219        nan        nan\n",
      "        nan 0.50476031 0.507864   0.50674463        nan        nan\n",
      "        nan 0.51112414 0.50583331 0.51035219        nan        nan\n",
      "        nan 0.50545939 0.50783879 0.50674463        nan        nan\n",
      "        nan 0.51081698 0.50697647 0.51035219        nan        nan\n",
      "        nan 0.50567038 0.50728299 0.50674463        nan        nan\n",
      "        nan 0.51058315 0.50715656 0.51035219        nan        nan\n",
      "        nan 0.50600133 0.50728879 0.50674463        nan        nan\n",
      "        nan 0.51058315 0.50674364 0.51035219        nan        nan\n",
      "        nan 0.50555589 0.50674638 0.50674463        nan        nan\n",
      "        nan 0.51046938 0.50618778 0.51035219        nan        nan\n",
      "        nan 0.50543813 0.5076428  0.50674463        nan        nan\n",
      "        nan 0.51046938 0.50732311 0.51035219        nan        nan\n",
      "        nan 0.50543813 0.50696109 0.50674463        nan        nan]\n",
      "  warnings.warn(\n"
     ]
    },
    {
     "name": "stdout",
     "output_type": "stream",
     "text": [
      "              precision    recall  f1-score   support\n",
      "\n",
      "           0       0.91      0.74      0.81      1593\n",
      "           1       0.41      0.71      0.52       407\n",
      "\n",
      "    accuracy                           0.73      2000\n",
      "   macro avg       0.66      0.72      0.66      2000\n",
      "weighted avg       0.81      0.73      0.75      2000\n",
      "\n",
      "Wall time: 44.2 s\n"
     ]
    },
    {
     "name": "stderr",
     "output_type": "stream",
     "text": [
      "c:\\users\\sergeyz06\\appdata\\local\\programs\\python\\python39\\lib\\site-packages\\sklearn\\linear_model\\_sag.py:352: ConvergenceWarning: The max_iter was reached which means the coef_ did not converge\n",
      "  warnings.warn(\n"
     ]
    }
   ],
   "source": [
    "%%time\n",
    "\n",
    "paramns = {'penalty': ['l1', 'l2', 'elasticnet'],\n",
    "           'C': np.arange(0, 1.1, 0.1),\n",
    "           'class_weight': ['balanced', {0: y_train.value_counts(normalize=True)[1], 1: y_train.value_counts(normalize=True)[0]}],\n",
    "           'solver': ['lbfgs', 'saga'],\n",
    "           'max_iter': [1000]}\n",
    "\n",
    "gs = GridSearchCV(estimator=LogisticRegression(),\n",
    "                 param_grid=paramns,\n",
    "                 scoring='f1',\n",
    "                 n_jobs=-1)\n",
    "\n",
    "gs.fit(X_train_p, y_train)\n",
    "y_pred = gs.predict(X_test_p)\n",
    "print(classification_report(y_test, y_pred))"
   ]
  },
  {
   "cell_type": "markdown",
   "id": "3dd072ae",
   "metadata": {},
   "source": [
    "##### За 44 секунды определён победитель:"
   ]
  },
  {
   "cell_type": "code",
   "execution_count": 63,
   "id": "b2a81e35",
   "metadata": {},
   "outputs": [
    {
     "data": {
      "text/plain": [
       "LogisticRegression(C=0.4, class_weight='balanced', max_iter=1000, penalty='l1',\n",
       "                   solver='saga')"
      ]
     },
     "execution_count": 63,
     "metadata": {},
     "output_type": "execute_result"
    }
   ],
   "source": [
    "gs.best_estimator_"
   ]
  },
  {
   "cell_type": "markdown",
   "id": "ab5fa410",
   "metadata": {},
   "source": [
    "##### Попробуем разнообразить веса классов, чтобы лучше обработать дисбаланс классов."
   ]
  },
  {
   "cell_type": "code",
   "execution_count": 65,
   "id": "9409d9eb",
   "metadata": {},
   "outputs": [
    {
     "name": "stderr",
     "output_type": "stream",
     "text": [
      "c:\\users\\sergeyz06\\appdata\\local\\programs\\python\\python39\\lib\\site-packages\\sklearn\\model_selection\\_validation.py:372: FitFailedWarning: \n",
      "300 fits failed out of a total of 900.\n",
      "The score on these train-test partitions for these parameters will be set to nan.\n",
      "If these failures are not expected, you can try to debug them by setting error_score='raise'.\n",
      "\n",
      "Below are more details about the failures:\n",
      "--------------------------------------------------------------------------------\n",
      "300 fits failed with the following error:\n",
      "Traceback (most recent call last):\n",
      "  File \"c:\\users\\sergeyz06\\appdata\\local\\programs\\python\\python39\\lib\\site-packages\\sklearn\\model_selection\\_validation.py\", line 681, in _fit_and_score\n",
      "    estimator.fit(X_train, y_train, **fit_params)\n",
      "  File \"c:\\users\\sergeyz06\\appdata\\local\\programs\\python\\python39\\lib\\site-packages\\sklearn\\linear_model\\_logistic.py\", line 1471, in fit\n",
      "    raise ValueError(\n",
      "ValueError: l1_ratio must be between 0 and 1; got (l1_ratio=None)\n",
      "\n",
      "  warnings.warn(some_fits_failed_message, FitFailedWarning)\n",
      "c:\\users\\sergeyz06\\appdata\\local\\programs\\python\\python39\\lib\\site-packages\\sklearn\\model_selection\\_search.py:969: UserWarning: One or more of the test scores are non-finite: [0.51114715 0.51035219        nan 0.47468956 0.47602379        nan\n",
      " 0.48086688 0.48285094        nan 0.48381232 0.48571024        nan\n",
      " 0.48760312 0.49097923        nan 0.4937735  0.49464475        nan\n",
      " 0.50089478 0.50334768        nan 0.50831679 0.51000115        nan\n",
      " 0.50870332 0.50834157        nan 0.51180458 0.51228801        nan\n",
      " 0.51313084 0.51325118        nan 0.51181446 0.51400838        nan\n",
      " 0.51159751 0.51035219        nan 0.4747604  0.47602379        nan\n",
      " 0.48085141 0.48255106        nan 0.48368987 0.48571024        nan\n",
      " 0.48789552 0.49097923        nan 0.49358199 0.49464475        nan\n",
      " 0.50133502 0.50334768        nan 0.50726917 0.51035562        nan\n",
      " 0.50931081 0.5082178         nan 0.51128948 0.51228801        nan\n",
      " 0.51364561 0.51325118        nan 0.51191561 0.51400838        nan\n",
      " 0.51112414 0.51035219        nan 0.47501547 0.47602379        nan\n",
      " 0.4808449  0.48255106        nan 0.48426063 0.48580751        nan\n",
      " 0.48829995 0.49107952        nan 0.49399746 0.49464475        nan\n",
      " 0.50132203 0.50334768        nan 0.50774354 0.51023577        nan\n",
      " 0.50929224 0.50821887        nan 0.51114383 0.51228801        nan\n",
      " 0.51313481 0.51325118        nan 0.51192627 0.51400838        nan\n",
      " 0.51081698 0.51035219        nan 0.47496381 0.47602379        nan\n",
      " 0.48229268 0.48285094        nan 0.48528793 0.48561326        nan\n",
      " 0.48966068 0.49097923        nan 0.49391515 0.49464475        nan\n",
      " 0.50335396 0.50334768        nan 0.50963621 0.5101162         nan\n",
      " 0.50877336 0.50834157        nan 0.51114626 0.51265216        nan\n",
      " 0.51361529 0.51325118        nan 0.51253413 0.5136176         nan\n",
      " 0.51058315 0.51035219        nan 0.47513411 0.47602379        nan\n",
      " 0.48258975 0.48285094        nan 0.48527665 0.48571024        nan\n",
      " 0.4893496  0.49107952        nan 0.49402186 0.49464475        nan\n",
      " 0.50379902 0.50334768        nan 0.50975671 0.50976173        nan\n",
      " 0.50889515 0.50834157        nan 0.51053137 0.51265216        nan\n",
      " 0.51376366 0.51325118        nan 0.51228679 0.51400838        nan]\n",
      "  warnings.warn(\n"
     ]
    },
    {
     "name": "stdout",
     "output_type": "stream",
     "text": [
      "              precision    recall  f1-score   support\n",
      "\n",
      "           0       0.89      0.81      0.85      1593\n",
      "           1       0.46      0.62      0.53       407\n",
      "\n",
      "    accuracy                           0.77      2000\n",
      "   macro avg       0.67      0.72      0.69      2000\n",
      "weighted avg       0.80      0.77      0.78      2000\n",
      "\n",
      "Wall time: 1min 54s\n"
     ]
    },
    {
     "name": "stderr",
     "output_type": "stream",
     "text": [
      "c:\\users\\sergeyz06\\appdata\\local\\programs\\python\\python39\\lib\\site-packages\\sklearn\\linear_model\\_sag.py:352: ConvergenceWarning: The max_iter was reached which means the coef_ did not converge\n",
      "  warnings.warn(\n"
     ]
    }
   ],
   "source": [
    "%%time\n",
    "\n",
    "paramns = {'penalty': ['l1', 'l2', 'elasticnet'],\n",
    "           'C': np.arange(0.3, 0.8, 0.1),\n",
    "           'class_weight': ['balanced', {0: 0.15, 1: 0.85}, {0: 0.16, 1: 0.84}, {0: 0.17, 1: 0.83}, {0: 0.18, 1: 0.82}, {0: 0.19, 1: 0.81}, {0: 0.20, 1: 0.80}, {0: 0.21, 1: 0.79}, {0: 0.22, 1: 0.78}, {0: 0.23, 1: 0.77}, {0: 0.24, 1: 0.76}, {0: 0.25, 1: 0.75}],\n",
    "           'solver': ['saga'],\n",
    "           'max_iter': [1000]}\n",
    "\n",
    "gs = GridSearchCV(estimator=LogisticRegression(),\n",
    "                 param_grid=paramns,\n",
    "                 scoring='f1',\n",
    "                 n_jobs=-1)\n",
    "\n",
    "gs.fit(X_train_p, y_train)\n",
    "y_pred = gs.predict(X_test_p)\n",
    "print(classification_report(y_test, y_pred))"
   ]
  },
  {
   "cell_type": "markdown",
   "id": "ee9d2987",
   "metadata": {},
   "source": [
    "##### За чуть менее чем 2 минуты GridSearchCV показала, что лучший f1 = 0.77 оказался на границе весов признаков:"
   ]
  },
  {
   "cell_type": "code",
   "execution_count": 66,
   "id": "198b4da4",
   "metadata": {},
   "outputs": [
    {
     "data": {
      "text/plain": [
       "LogisticRegression(C=0.3, class_weight={0: 0.25, 1: 0.75}, max_iter=1000,\n",
       "                   solver='saga')"
      ]
     },
     "execution_count": 66,
     "metadata": {},
     "output_type": "execute_result"
    }
   ],
   "source": [
    "gs.best_estimator_"
   ]
  },
  {
   "cell_type": "markdown",
   "id": "9b13ad79",
   "metadata": {},
   "source": [
    "##### Попробуем ещё чуть расширить диапазон весов классов:"
   ]
  },
  {
   "cell_type": "code",
   "execution_count": 67,
   "id": "47dcc773",
   "metadata": {},
   "outputs": [
    {
     "name": "stderr",
     "output_type": "stream",
     "text": [
      "c:\\users\\sergeyz06\\appdata\\local\\programs\\python\\python39\\lib\\site-packages\\sklearn\\model_selection\\_validation.py:372: FitFailedWarning: \n",
      "660 fits failed out of a total of 10890.\n",
      "The score on these train-test partitions for these parameters will be set to nan.\n",
      "If these failures are not expected, you can try to debug them by setting error_score='raise'.\n",
      "\n",
      "Below are more details about the failures:\n",
      "--------------------------------------------------------------------------------\n",
      "660 fits failed with the following error:\n",
      "Traceback (most recent call last):\n",
      "  File \"c:\\users\\sergeyz06\\appdata\\local\\programs\\python\\python39\\lib\\site-packages\\sklearn\\model_selection\\_validation.py\", line 681, in _fit_and_score\n",
      "    estimator.fit(X_train, y_train, **fit_params)\n",
      "  File \"c:\\users\\sergeyz06\\appdata\\local\\programs\\python\\python39\\lib\\site-packages\\sklearn\\linear_model\\_logistic.py\", line 1589, in fit\n",
      "    fold_coefs_ = Parallel(\n",
      "  File \"c:\\users\\sergeyz06\\appdata\\local\\programs\\python\\python39\\lib\\site-packages\\joblib\\parallel.py\", line 1043, in __call__\n",
      "    if self.dispatch_one_batch(iterator):\n",
      "  File \"c:\\users\\sergeyz06\\appdata\\local\\programs\\python\\python39\\lib\\site-packages\\joblib\\parallel.py\", line 861, in dispatch_one_batch\n",
      "    self._dispatch(tasks)\n",
      "  File \"c:\\users\\sergeyz06\\appdata\\local\\programs\\python\\python39\\lib\\site-packages\\joblib\\parallel.py\", line 779, in _dispatch\n",
      "    job = self._backend.apply_async(batch, callback=cb)\n",
      "  File \"c:\\users\\sergeyz06\\appdata\\local\\programs\\python\\python39\\lib\\site-packages\\joblib\\_parallel_backends.py\", line 208, in apply_async\n",
      "    result = ImmediateResult(func)\n",
      "  File \"c:\\users\\sergeyz06\\appdata\\local\\programs\\python\\python39\\lib\\site-packages\\joblib\\_parallel_backends.py\", line 572, in __init__\n",
      "    self.results = batch()\n",
      "  File \"c:\\users\\sergeyz06\\appdata\\local\\programs\\python\\python39\\lib\\site-packages\\joblib\\parallel.py\", line 262, in __call__\n",
      "    return [func(*args, **kwargs)\n",
      "  File \"c:\\users\\sergeyz06\\appdata\\local\\programs\\python\\python39\\lib\\site-packages\\joblib\\parallel.py\", line 262, in <listcomp>\n",
      "    return [func(*args, **kwargs)\n",
      "  File \"c:\\users\\sergeyz06\\appdata\\local\\programs\\python\\python39\\lib\\site-packages\\sklearn\\utils\\fixes.py\", line 211, in __call__\n",
      "    return self.function(*args, **kwargs)\n",
      "  File \"c:\\users\\sergeyz06\\appdata\\local\\programs\\python\\python39\\lib\\site-packages\\sklearn\\linear_model\\_logistic.py\", line 864, in _logistic_regression_path\n",
      "    w0, n_iter_i, warm_start_sag = sag_solver(\n",
      "  File \"c:\\users\\sergeyz06\\appdata\\local\\programs\\python\\python39\\lib\\site-packages\\sklearn\\linear_model\\_sag.py\", line 327, in sag_solver\n",
      "    num_seen, n_iter_ = sag(\n",
      "  File \"sklearn\\linear_model\\_sag_fast.pyx\", line 951, in sklearn.linear_model._sag_fast.sag32\n",
      "ValueError: Floating-point under-/overflow occurred at epoch #1. Scaling input data with StandardScaler or MinMaxScaler might help.\n",
      "\n",
      "  warnings.warn(some_fits_failed_message, FitFailedWarning)\n",
      "c:\\users\\sergeyz06\\appdata\\local\\programs\\python\\python39\\lib\\site-packages\\sklearn\\model_selection\\_search.py:969: UserWarning: One or more of the test scores are non-finite: [0.                nan        nan ... 0.50855495 0.50901337 0.50855495]\n",
      "  warnings.warn(\n"
     ]
    },
    {
     "name": "stdout",
     "output_type": "stream",
     "text": [
      "              precision    recall  f1-score   support\n",
      "\n",
      "           0       0.89      0.80      0.85      1593\n",
      "           1       0.45      0.62      0.52       407\n",
      "\n",
      "    accuracy                           0.77      2000\n",
      "   macro avg       0.67      0.71      0.68      2000\n",
      "weighted avg       0.80      0.77      0.78      2000\n",
      "\n",
      "Wall time: 31min 27s\n"
     ]
    },
    {
     "name": "stderr",
     "output_type": "stream",
     "text": [
      "c:\\users\\sergeyz06\\appdata\\local\\programs\\python\\python39\\lib\\site-packages\\sklearn\\linear_model\\_sag.py:352: ConvergenceWarning: The max_iter was reached which means the coef_ did not converge\n",
      "  warnings.warn(\n"
     ]
    }
   ],
   "source": [
    "%%time\n",
    "\n",
    "paramns = {'penalty': ['l1', 'l2', 'elasticnet'],\n",
    "           'C': np.arange(0, 1.1, 0.1),\n",
    "           'class_weight': [{0: 0.25, 1: 0.75}, {0: 0.26, 1: 0.74}, {0: 0.27, 1: 0.73}, {0: 0.28, 1: 0.72}, {0: 0.29, 1: 0.71}, {0: 0.30, 1: 0.70}],\n",
    "           'solver': ['saga'],\n",
    "           'max_iter': [1000],\n",
    "           'l1_ratio': np.arange(0, 1.1, 0.1)}\n",
    "\n",
    "gs = GridSearchCV(estimator=LogisticRegression(),\n",
    "                 param_grid=paramns,\n",
    "                 scoring='f1',\n",
    "                 n_jobs=-1)\n",
    "\n",
    "gs.fit(X_train_p, y_train)\n",
    "y_pred = gs.predict(X_test_p)\n",
    "print(classification_report(y_test, y_pred))"
   ]
  },
  {
   "cell_type": "markdown",
   "id": "fbfbf6a4",
   "metadata": {},
   "source": [
    "##### За чуть более чем пол часа перебора параметров получился сопоставимый результат, f1 = 0.77."
   ]
  },
  {
   "cell_type": "code",
   "execution_count": 68,
   "id": "e047e248",
   "metadata": {},
   "outputs": [
    {
     "data": {
      "text/plain": [
       "LogisticRegression(C=0.1, class_weight={0: 0.25, 1: 0.75}, l1_ratio=0.5,\n",
       "                   max_iter=1000, penalty='elasticnet', solver='saga')"
      ]
     },
     "execution_count": 68,
     "metadata": {},
     "output_type": "execute_result"
    }
   ],
   "source": [
    "gs.best_estimator_"
   ]
  },
  {
   "cell_type": "markdown",
   "id": "e22f0e82",
   "metadata": {},
   "source": [
    "### Upsampling"
   ]
  },
  {
   "cell_type": "code",
   "execution_count": 74,
   "id": "a8263d94",
   "metadata": {},
   "outputs": [
    {
     "data": {
      "text/plain": [
       "4740"
      ]
     },
     "execution_count": 74,
     "metadata": {},
     "output_type": "execute_result"
    }
   ],
   "source": [
    "upsampling_counts = y_train.value_counts()[0] - y_train.value_counts()[1]\n",
    "upsampling_counts"
   ]
  },
  {
   "cell_type": "markdown",
   "id": "eefc8898",
   "metadata": {},
   "source": [
    "##### Столько значений нужно добавить, чтобы устранить дисбаланс классов."
   ]
  },
  {
   "cell_type": "code",
   "execution_count": 85,
   "id": "fda29415",
   "metadata": {},
   "outputs": [
    {
     "name": "stdout",
     "output_type": "stream",
     "text": [
      "<class 'pandas.core.frame.DataFrame'>\n",
      "RangeIndex: 12740 entries, 0 to 12739\n",
      "Data columns (total 18 columns):\n",
      " #   Column           Non-Null Count  Dtype  \n",
      "---  ------           --------------  -----  \n",
      " 0   CreditScore      12740 non-null  float32\n",
      " 1   Tenure           12740 non-null  int8   \n",
      " 2   Balance          12740 non-null  int16  \n",
      " 3   NumOfProducts    12740 non-null  int8   \n",
      " 4   HasCrCard        12740 non-null  int8   \n",
      " 5   IsActiveMember   12740 non-null  int8   \n",
      " 6   EstimatedSalary  12740 non-null  int16  \n",
      " 7   France           12740 non-null  float32\n",
      " 8   Germany          12740 non-null  float32\n",
      " 9   Spain            12740 non-null  float32\n",
      " 10  Male             12740 non-null  float32\n",
      " 11  Age_0            12740 non-null  float32\n",
      " 12  Age_1            12740 non-null  float32\n",
      " 13  Age_2            12740 non-null  float32\n",
      " 14  Age_3            12740 non-null  float32\n",
      " 15  Age_4            12740 non-null  float32\n",
      " 16  Age_5            12740 non-null  float32\n",
      " 17  Age_6            12740 non-null  float32\n",
      "dtypes: float32(12), int16(2), int8(4)\n",
      "memory usage: 696.8 KB\n"
     ]
    }
   ],
   "source": [
    "X_train_p_us = X_train_p[y_train == 1].sample(n = upsampling_counts, replace=True, random_state=1).copy()\n",
    "X_train_p_us = pd.concat([X_train_p, X_train_p_us]).reset_index(drop=True).copy()\n",
    "X_train_p_us.info()"
   ]
  },
  {
   "cell_type": "code",
   "execution_count": 86,
   "id": "335ed411",
   "metadata": {},
   "outputs": [
    {
     "data": {
      "text/plain": [
       "0    6370\n",
       "1    6370\n",
       "Name: Exited, dtype: int64"
      ]
     },
     "execution_count": 86,
     "metadata": {},
     "output_type": "execute_result"
    }
   ],
   "source": [
    "y_train_us = y_train[y_train == 1].sample(n = upsampling_counts, replace=True, random_state=1).copy()\n",
    "y_train_us = pd.concat([y_train, y_train_us]).reset_index(drop=True).copy()\n",
    "y_train_us.value_counts()"
   ]
  },
  {
   "cell_type": "markdown",
   "id": "bf9f5028",
   "metadata": {},
   "source": [
    "##### Попробуем обучить модель на новых данных."
   ]
  },
  {
   "cell_type": "code",
   "execution_count": 87,
   "id": "83a61c68",
   "metadata": {},
   "outputs": [
    {
     "name": "stderr",
     "output_type": "stream",
     "text": [
      "c:\\users\\sergeyz06\\appdata\\local\\programs\\python\\python39\\lib\\site-packages\\sklearn\\model_selection\\_validation.py:372: FitFailedWarning: \n",
      "110 fits failed out of a total of 1815.\n",
      "The score on these train-test partitions for these parameters will be set to nan.\n",
      "If these failures are not expected, you can try to debug them by setting error_score='raise'.\n",
      "\n",
      "Below are more details about the failures:\n",
      "--------------------------------------------------------------------------------\n",
      "110 fits failed with the following error:\n",
      "Traceback (most recent call last):\n",
      "  File \"c:\\users\\sergeyz06\\appdata\\local\\programs\\python\\python39\\lib\\site-packages\\sklearn\\model_selection\\_validation.py\", line 681, in _fit_and_score\n",
      "    estimator.fit(X_train, y_train, **fit_params)\n",
      "  File \"c:\\users\\sergeyz06\\appdata\\local\\programs\\python\\python39\\lib\\site-packages\\sklearn\\linear_model\\_logistic.py\", line 1589, in fit\n",
      "    fold_coefs_ = Parallel(\n",
      "  File \"c:\\users\\sergeyz06\\appdata\\local\\programs\\python\\python39\\lib\\site-packages\\joblib\\parallel.py\", line 1043, in __call__\n",
      "    if self.dispatch_one_batch(iterator):\n",
      "  File \"c:\\users\\sergeyz06\\appdata\\local\\programs\\python\\python39\\lib\\site-packages\\joblib\\parallel.py\", line 861, in dispatch_one_batch\n",
      "    self._dispatch(tasks)\n",
      "  File \"c:\\users\\sergeyz06\\appdata\\local\\programs\\python\\python39\\lib\\site-packages\\joblib\\parallel.py\", line 779, in _dispatch\n",
      "    job = self._backend.apply_async(batch, callback=cb)\n",
      "  File \"c:\\users\\sergeyz06\\appdata\\local\\programs\\python\\python39\\lib\\site-packages\\joblib\\_parallel_backends.py\", line 208, in apply_async\n",
      "    result = ImmediateResult(func)\n",
      "  File \"c:\\users\\sergeyz06\\appdata\\local\\programs\\python\\python39\\lib\\site-packages\\joblib\\_parallel_backends.py\", line 572, in __init__\n",
      "    self.results = batch()\n",
      "  File \"c:\\users\\sergeyz06\\appdata\\local\\programs\\python\\python39\\lib\\site-packages\\joblib\\parallel.py\", line 262, in __call__\n",
      "    return [func(*args, **kwargs)\n",
      "  File \"c:\\users\\sergeyz06\\appdata\\local\\programs\\python\\python39\\lib\\site-packages\\joblib\\parallel.py\", line 262, in <listcomp>\n",
      "    return [func(*args, **kwargs)\n",
      "  File \"c:\\users\\sergeyz06\\appdata\\local\\programs\\python\\python39\\lib\\site-packages\\sklearn\\utils\\fixes.py\", line 211, in __call__\n",
      "    return self.function(*args, **kwargs)\n",
      "  File \"c:\\users\\sergeyz06\\appdata\\local\\programs\\python\\python39\\lib\\site-packages\\sklearn\\linear_model\\_logistic.py\", line 864, in _logistic_regression_path\n",
      "    w0, n_iter_i, warm_start_sag = sag_solver(\n",
      "  File \"c:\\users\\sergeyz06\\appdata\\local\\programs\\python\\python39\\lib\\site-packages\\sklearn\\linear_model\\_sag.py\", line 327, in sag_solver\n",
      "    num_seen, n_iter_ = sag(\n",
      "  File \"sklearn\\linear_model\\_sag_fast.pyx\", line 951, in sklearn.linear_model._sag_fast.sag32\n",
      "ValueError: Floating-point under-/overflow occurred at epoch #1. Scaling input data with StandardScaler or MinMaxScaler might help.\n",
      "\n",
      "  warnings.warn(some_fits_failed_message, FitFailedWarning)\n",
      "c:\\users\\sergeyz06\\appdata\\local\\programs\\python\\python39\\lib\\site-packages\\sklearn\\model_selection\\_search.py:969: UserWarning: One or more of the test scores are non-finite: [0.4               nan        nan 0.26666667        nan        nan\n",
      " 0.4               nan        nan 0.53333333        nan        nan\n",
      " 0.26666667        nan        nan 0.26666667        nan        nan\n",
      " 0.4               nan        nan 0.4               nan        nan\n",
      " 0.4               nan        nan 0.26666667        nan        nan\n",
      " 0.                nan        nan 0.69866617 0.69967704 0.69967704\n",
      " 0.69866617 0.69967704 0.69915231 0.69872282 0.69967704 0.69926862\n",
      " 0.69866617 0.69967704 0.69916475 0.69866617 0.69967704 0.6982629\n",
      " 0.69872282 0.69967704 0.69825472 0.69866617 0.69967704 0.69846031\n",
      " 0.69872282 0.69967704 0.69855249 0.69872282 0.6994683  0.6985977\n",
      " 0.69866617 0.6994683  0.6985977  0.69866617 0.69967704 0.69866617\n",
      " 0.69825472 0.69967704 0.6994683  0.69825472 0.6994683  0.6996209\n",
      " 0.69819819 0.6994683  0.69915231 0.69825472 0.69967704 0.69915263\n",
      " 0.69819819 0.69967704 0.69926862 0.69819819 0.69967704 0.69916435\n",
      " 0.69825472 0.69967704 0.69916475 0.69825472 0.69967704 0.69841616\n",
      " 0.69830101 0.6994683  0.6982629  0.69830101 0.6994683  0.69825581\n",
      " 0.69819819 0.6994683  0.69825472 0.69877686 0.6994683  0.6994683\n",
      " 0.69877686 0.6994683  0.69967704 0.69877686 0.6994683  0.6996209\n",
      " 0.69877686 0.69967704 0.69915231 0.69883339 0.6994683  0.69904797\n",
      " 0.69877686 0.69967704 0.69926862 0.69877686 0.6994683  0.69926862\n",
      " 0.69883339 0.6994683  0.69926862 0.69877686 0.6994683  0.69916435\n",
      " 0.69877686 0.6994683  0.6992676  0.69877686 0.69967704 0.69877686\n",
      " 0.69916435 0.69967704 0.6994683  0.69916435 0.6994683  0.69967704\n",
      " 0.69916435 0.6994683  0.6996209  0.69916435 0.6994683  0.6996209\n",
      " 0.69916435 0.69967704 0.69915231 0.69916435 0.69967704 0.69915263\n",
      " 0.69916435 0.6994683  0.69915263 0.69916435 0.6994683  0.69926862\n",
      " 0.69916435 0.6994683  0.69926862 0.69916435 0.6994683  0.69926862\n",
      " 0.69916435 0.69967704 0.69916435 0.69926862 0.6994683  0.6994683\n",
      " 0.69926862 0.69967704 0.69967704 0.69926862 0.69967704 0.6996209\n",
      " 0.69926862 0.6994683  0.6996209  0.69926862 0.6994683  0.69909617\n",
      " 0.69926862 0.6994683  0.69915231 0.69926862 0.6994683  0.69915263\n",
      " 0.69926862 0.6994683  0.69915263 0.69926862 0.6994683  0.69926862\n",
      " 0.69926862 0.69967704 0.69926862 0.69926862 0.6994683  0.69926862\n",
      " 0.69926862 0.6994683  0.6994683  0.69926862 0.6994683  0.6994683\n",
      " 0.69926862 0.6994683  0.69967704 0.69926862 0.6994683  0.6996209\n",
      " 0.69926862 0.69967704 0.6996209  0.69926862 0.6994683  0.6989915\n",
      " 0.69926862 0.69967704 0.69915231 0.69926862 0.6994683  0.69915231\n",
      " 0.69926862 0.6994683  0.69915263 0.69926862 0.6994683  0.69915263\n",
      " 0.69926862 0.69967704 0.69926862 0.69915263 0.69967704 0.6994683\n",
      " 0.69915263 0.69967704 0.6994683  0.69915263 0.6994683  0.6994683\n",
      " 0.69915263 0.6994683  0.6996209  0.69915263 0.6994683  0.6996209\n",
      " 0.69915263 0.69967704 0.6996209  0.69915263 0.6994683  0.69909617\n",
      " 0.69915263 0.6994683  0.69915231 0.69915263 0.6994683  0.69915231\n",
      " 0.69915263 0.69967704 0.69915263 0.69915263 0.6994683  0.69915263\n",
      " 0.69915263 0.6994683  0.69967704 0.69915263 0.6994683  0.6994683\n",
      " 0.69915263 0.6994683  0.6994683  0.69915263 0.69967704 0.69967704\n",
      " 0.69915263 0.69967704 0.6996209  0.69915263 0.69967704 0.69941216\n",
      " 0.69915263 0.6994683  0.6996209  0.69915263 0.69967704 0.69909617\n",
      " 0.69904797 0.69967704 0.69915231 0.69915263 0.6994683  0.69915231\n",
      " 0.69915263 0.69967704 0.69915263 0.69915231 0.6994683  0.6994683\n",
      " 0.69915231 0.6994683  0.69967704 0.69915231 0.6994683  0.69967704\n",
      " 0.69915231 0.6994683  0.69967704 0.69915231 0.69967704 0.69941216\n",
      " 0.69915231 0.69967704 0.69941216 0.69915231 0.6994683  0.69941216\n",
      " 0.69915231 0.69967704 0.6996209  0.69915231 0.6994683  0.69909617\n",
      " 0.69915231 0.69967704 0.69915231 0.69915231 0.6994683  0.69915231\n",
      " 0.69904764 0.6994683  0.6994683  0.69915231 0.6994683  0.6994683\n",
      " 0.69904764 0.6994683  0.6994683  0.69915231 0.69967704 0.6994683\n",
      " 0.69915231 0.6994683  0.6996209  0.69915231 0.6994683  0.6996209\n",
      " 0.69915231 0.6994683  0.6996209  0.69915231 0.6994683  0.69941216\n",
      " 0.69915231 0.69967704 0.6989915  0.69904764 0.6994683  0.69909617\n",
      " 0.69904764 0.69967704 0.69915231]\n",
      "  warnings.warn(\n",
      "c:\\users\\sergeyz06\\appdata\\local\\programs\\python\\python39\\lib\\site-packages\\sklearn\\linear_model\\_logistic.py:1476: UserWarning: l1_ratio parameter is only used when penalty is 'elasticnet'. Got (penalty=l2)\n",
      "  warnings.warn(\n"
     ]
    },
    {
     "name": "stdout",
     "output_type": "stream",
     "text": [
      "              precision    recall  f1-score   support\n",
      "\n",
      "           0       0.91      0.73      0.81      1593\n",
      "           1       0.40      0.71      0.52       407\n",
      "\n",
      "    accuracy                           0.73      2000\n",
      "   macro avg       0.66      0.72      0.66      2000\n",
      "weighted avg       0.81      0.73      0.75      2000\n",
      "\n",
      "Wall time: 8min 23s\n"
     ]
    },
    {
     "name": "stderr",
     "output_type": "stream",
     "text": [
      "c:\\users\\sergeyz06\\appdata\\local\\programs\\python\\python39\\lib\\site-packages\\sklearn\\linear_model\\_sag.py:352: ConvergenceWarning: The max_iter was reached which means the coef_ did not converge\n",
      "  warnings.warn(\n"
     ]
    }
   ],
   "source": [
    "%%time\n",
    "\n",
    "paramns = {'penalty': ['l1', 'l2', 'elasticnet'],\n",
    "           'C': np.arange(0, 1.1, 0.1),\n",
    "           'solver': ['saga'],\n",
    "           'max_iter': [1000],\n",
    "           'l1_ratio': np.arange(0, 1.1, 0.1)}\n",
    "\n",
    "gs = GridSearchCV(estimator=LogisticRegression(),\n",
    "                 param_grid=paramns,\n",
    "                 scoring='f1',\n",
    "                 n_jobs=-1)\n",
    "\n",
    "gs.fit(X_train_p_us, y_train_us)\n",
    "y_pred = gs.predict(X_test_p)\n",
    "print(classification_report(y_test, y_pred))"
   ]
  },
  {
   "cell_type": "code",
   "execution_count": 88,
   "id": "ebe7f52a",
   "metadata": {},
   "outputs": [
    {
     "data": {
      "text/plain": [
       "LogisticRegression(C=0.1, l1_ratio=0.0, max_iter=1000, solver='saga')"
      ]
     },
     "execution_count": 88,
     "metadata": {},
     "output_type": "execute_result"
    }
   ],
   "source": [
    "gs.best_estimator_"
   ]
  },
  {
   "cell_type": "markdown",
   "id": "8a56267b",
   "metadata": {},
   "source": [
    "##### Несмотря на наличие дублей при upsampling'е, модель продемонстрировала не на много худшую метрику, f1 = 0.73. Однако Precision для дифицитного класса всё же пострадала."
   ]
  },
  {
   "cell_type": "markdown",
   "id": "0edbb7ef",
   "metadata": {},
   "source": [
    "### Downsampling"
   ]
  },
  {
   "cell_type": "code",
   "execution_count": 89,
   "id": "e007885f",
   "metadata": {},
   "outputs": [
    {
     "data": {
      "text/plain": [
       "1630"
      ]
     },
     "execution_count": 89,
     "metadata": {},
     "output_type": "execute_result"
    }
   ],
   "source": [
    "downsampling_counts = y_train.value_counts()[1]\n",
    "downsampling_counts"
   ]
  },
  {
   "cell_type": "markdown",
   "id": "a76a1f47",
   "metadata": {},
   "source": [
    "##### Столько значений каждого класса должно быть для устранения дисбаланса классов."
   ]
  },
  {
   "cell_type": "code",
   "execution_count": 91,
   "id": "7c9312c1",
   "metadata": {},
   "outputs": [
    {
     "name": "stdout",
     "output_type": "stream",
     "text": [
      "<class 'pandas.core.frame.DataFrame'>\n",
      "RangeIndex: 3260 entries, 0 to 3259\n",
      "Data columns (total 18 columns):\n",
      " #   Column           Non-Null Count  Dtype  \n",
      "---  ------           --------------  -----  \n",
      " 0   CreditScore      3260 non-null   float32\n",
      " 1   Tenure           3260 non-null   int8   \n",
      " 2   Balance          3260 non-null   int16  \n",
      " 3   NumOfProducts    3260 non-null   int8   \n",
      " 4   HasCrCard        3260 non-null   int8   \n",
      " 5   IsActiveMember   3260 non-null   int8   \n",
      " 6   EstimatedSalary  3260 non-null   int16  \n",
      " 7   France           3260 non-null   float32\n",
      " 8   Germany          3260 non-null   float32\n",
      " 9   Spain            3260 non-null   float32\n",
      " 10  Male             3260 non-null   float32\n",
      " 11  Age_0            3260 non-null   float32\n",
      " 12  Age_1            3260 non-null   float32\n",
      " 13  Age_2            3260 non-null   float32\n",
      " 14  Age_3            3260 non-null   float32\n",
      " 15  Age_4            3260 non-null   float32\n",
      " 16  Age_5            3260 non-null   float32\n",
      " 17  Age_6            3260 non-null   float32\n",
      "dtypes: float32(12), int16(2), int8(4)\n",
      "memory usage: 178.4 KB\n"
     ]
    }
   ],
   "source": [
    "X_train_p_ds = X_train_p[y_train == 0].sample(n=downsampling_counts, replace=False, random_state=1).copy()\n",
    "X_train_p_ds = pd.concat([X_train_p_ds, X_train_p[y_train == 1]]).reset_index(drop=True).copy()\n",
    "X_train_p_ds.info()"
   ]
  },
  {
   "cell_type": "code",
   "execution_count": 93,
   "id": "21b0c29e",
   "metadata": {},
   "outputs": [
    {
     "data": {
      "text/plain": [
       "0    1630\n",
       "1    1630\n",
       "Name: Exited, dtype: int64"
      ]
     },
     "execution_count": 93,
     "metadata": {},
     "output_type": "execute_result"
    }
   ],
   "source": [
    "y_train_ds = y_train[y_train == 0].sample(n=downsampling_counts, random_state=1).copy()\n",
    "y_train_ds = pd.concat([y_train_ds, y_train[y_train == 1]]).reset_index(drop=True).copy()\n",
    "y_train_ds.value_counts()"
   ]
  },
  {
   "cell_type": "markdown",
   "id": "4ae931b8",
   "metadata": {},
   "source": [
    "##### Также попробуем обучить модель на новых данных."
   ]
  },
  {
   "cell_type": "code",
   "execution_count": 94,
   "id": "090f0a19",
   "metadata": {},
   "outputs": [
    {
     "name": "stderr",
     "output_type": "stream",
     "text": [
      "c:\\users\\sergeyz06\\appdata\\local\\programs\\python\\python39\\lib\\site-packages\\sklearn\\model_selection\\_validation.py:372: FitFailedWarning: \n",
      "110 fits failed out of a total of 1815.\n",
      "The score on these train-test partitions for these parameters will be set to nan.\n",
      "If these failures are not expected, you can try to debug them by setting error_score='raise'.\n",
      "\n",
      "Below are more details about the failures:\n",
      "--------------------------------------------------------------------------------\n",
      "110 fits failed with the following error:\n",
      "Traceback (most recent call last):\n",
      "  File \"c:\\users\\sergeyz06\\appdata\\local\\programs\\python\\python39\\lib\\site-packages\\sklearn\\model_selection\\_validation.py\", line 681, in _fit_and_score\n",
      "    estimator.fit(X_train, y_train, **fit_params)\n",
      "  File \"c:\\users\\sergeyz06\\appdata\\local\\programs\\python\\python39\\lib\\site-packages\\sklearn\\linear_model\\_logistic.py\", line 1589, in fit\n",
      "    fold_coefs_ = Parallel(\n",
      "  File \"c:\\users\\sergeyz06\\appdata\\local\\programs\\python\\python39\\lib\\site-packages\\joblib\\parallel.py\", line 1043, in __call__\n",
      "    if self.dispatch_one_batch(iterator):\n",
      "  File \"c:\\users\\sergeyz06\\appdata\\local\\programs\\python\\python39\\lib\\site-packages\\joblib\\parallel.py\", line 861, in dispatch_one_batch\n",
      "    self._dispatch(tasks)\n",
      "  File \"c:\\users\\sergeyz06\\appdata\\local\\programs\\python\\python39\\lib\\site-packages\\joblib\\parallel.py\", line 779, in _dispatch\n",
      "    job = self._backend.apply_async(batch, callback=cb)\n",
      "  File \"c:\\users\\sergeyz06\\appdata\\local\\programs\\python\\python39\\lib\\site-packages\\joblib\\_parallel_backends.py\", line 208, in apply_async\n",
      "    result = ImmediateResult(func)\n",
      "  File \"c:\\users\\sergeyz06\\appdata\\local\\programs\\python\\python39\\lib\\site-packages\\joblib\\_parallel_backends.py\", line 572, in __init__\n",
      "    self.results = batch()\n",
      "  File \"c:\\users\\sergeyz06\\appdata\\local\\programs\\python\\python39\\lib\\site-packages\\joblib\\parallel.py\", line 262, in __call__\n",
      "    return [func(*args, **kwargs)\n",
      "  File \"c:\\users\\sergeyz06\\appdata\\local\\programs\\python\\python39\\lib\\site-packages\\joblib\\parallel.py\", line 262, in <listcomp>\n",
      "    return [func(*args, **kwargs)\n",
      "  File \"c:\\users\\sergeyz06\\appdata\\local\\programs\\python\\python39\\lib\\site-packages\\sklearn\\utils\\fixes.py\", line 211, in __call__\n",
      "    return self.function(*args, **kwargs)\n",
      "  File \"c:\\users\\sergeyz06\\appdata\\local\\programs\\python\\python39\\lib\\site-packages\\sklearn\\linear_model\\_logistic.py\", line 864, in _logistic_regression_path\n",
      "    w0, n_iter_i, warm_start_sag = sag_solver(\n",
      "  File \"c:\\users\\sergeyz06\\appdata\\local\\programs\\python\\python39\\lib\\site-packages\\sklearn\\linear_model\\_sag.py\", line 327, in sag_solver\n",
      "    num_seen, n_iter_ = sag(\n",
      "  File \"sklearn\\linear_model\\_sag_fast.pyx\", line 951, in sklearn.linear_model._sag_fast.sag32\n",
      "ValueError: Floating-point under-/overflow occurred at epoch #1. Scaling input data with StandardScaler or MinMaxScaler might help.\n",
      "\n",
      "  warnings.warn(some_fits_failed_message, FitFailedWarning)\n",
      "c:\\users\\sergeyz06\\appdata\\local\\programs\\python\\python39\\lib\\site-packages\\sklearn\\model_selection\\_search.py:969: UserWarning: One or more of the test scores are non-finite: [0.4               nan        nan 0.26666667        nan        nan\n",
      " 0.4               nan        nan 0.4               nan        nan\n",
      " 0.26666667        nan        nan 0.13333333        nan        nan\n",
      " 0.53333333        nan        nan 0.4               nan        nan\n",
      " 0.26666667        nan        nan 0.                nan        nan\n",
      " 0.4               nan        nan 0.70443839 0.70513127 0.70513127\n",
      " 0.70402524 0.70513127 0.70562386 0.70443839 0.70513127 0.70627055\n",
      " 0.70443839 0.70513127 0.70457563 0.70402524 0.70513127 0.70409039\n",
      " 0.70443839 0.70513127 0.70325627 0.70443839 0.70513127 0.70682279\n",
      " 0.70443839 0.70513127 0.70409757 0.70443839 0.70513127 0.70347637\n",
      " 0.70443839 0.70513127 0.70363415 0.70443839 0.70513127 0.70402524\n",
      " 0.70430346 0.70579705 0.70579705 0.70430346 0.70579705 0.70561621\n",
      " 0.70430346 0.70579705 0.70562386 0.70430346 0.70579705 0.70629687\n",
      " 0.70430346 0.70579705 0.70560294 0.70430346 0.70579705 0.7054113\n",
      " 0.70430346 0.70579705 0.7055727  0.70390968 0.70579705 0.70497161\n",
      " 0.70430346 0.70579705 0.70496306 0.70430346 0.70579705 0.70581887\n",
      " 0.70430346 0.70579705 0.70430346 0.70519489 0.70579705 0.70579705\n",
      " 0.70519489 0.70579705 0.70628726 0.70519489 0.70579705 0.70610288\n",
      " 0.70519489 0.70579705 0.70688508 0.70519489 0.70579705 0.70665652\n",
      " 0.70519489 0.70579705 0.70560294 0.70519489 0.70579705 0.70560294\n",
      " 0.70519489 0.70579705 0.70599793 0.70519489 0.70579705 0.7054113\n",
      " 0.70519489 0.70579705 0.7055727  0.70519489 0.70579705 0.70519489\n",
      " 0.7054113  0.70628726 0.70628726 0.7054113  0.70628726 0.70651126\n",
      " 0.7054113  0.70628726 0.70651126 0.7054113  0.70628726 0.70610288\n",
      " 0.7054113  0.70628726 0.70688508 0.7054113  0.70628726 0.70643324\n",
      " 0.7054113  0.70628726 0.70665652 0.7054113  0.70628726 0.70560294\n",
      " 0.7054113  0.70628726 0.70560294 0.7054113  0.70628726 0.70599793\n",
      " 0.7054113  0.70628726 0.7054113  0.70560294 0.70628726 0.70628726\n",
      " 0.70560294 0.70628726 0.70628726 0.70560294 0.70628726 0.70628726\n",
      " 0.70560294 0.70628726 0.70610288 0.70560294 0.70628726 0.70651126\n",
      " 0.70560294 0.70628726 0.70688508 0.70560294 0.70628726 0.70665652\n",
      " 0.70560294 0.70628726 0.70665652 0.70560294 0.70628726 0.70597516\n",
      " 0.70560294 0.70628726 0.70560294 0.70560294 0.70628726 0.70560294\n",
      " 0.70560294 0.70628726 0.70628726 0.70560294 0.70628726 0.70628726\n",
      " 0.70560294 0.70628726 0.70628726 0.70560294 0.70628726 0.70651126\n",
      " 0.70560294 0.70628726 0.70610288 0.70560294 0.70628726 0.7070788\n",
      " 0.70560294 0.70628726 0.70688508 0.70560294 0.70628726 0.70665652\n",
      " 0.70560294 0.70628726 0.70665652 0.70560294 0.70628726 0.70665652\n",
      " 0.70560294 0.70628726 0.70560294 0.70665652 0.70628726 0.70628726\n",
      " 0.70665652 0.70628726 0.70628726 0.70665652 0.70628726 0.70628726\n",
      " 0.70665652 0.70628726 0.70651126 0.70665652 0.70628726 0.70651126\n",
      " 0.70665652 0.70628726 0.70610288 0.70665652 0.70628726 0.7070788\n",
      " 0.70665652 0.70628726 0.70688508 0.70665652 0.70628726 0.70688508\n",
      " 0.70665652 0.70628726 0.70665652 0.70665652 0.70628726 0.70665652\n",
      " 0.70665652 0.70628726 0.70628726 0.70665652 0.70628726 0.70628726\n",
      " 0.70665652 0.70628726 0.70651126 0.70665652 0.70628726 0.70628726\n",
      " 0.70665652 0.70628726 0.70651126 0.70665652 0.70628726 0.70610288\n",
      " 0.70665652 0.70628726 0.70610288 0.70643324 0.70628726 0.7070788\n",
      " 0.70643324 0.70628726 0.70688508 0.70665652 0.70628726 0.70688508\n",
      " 0.70665652 0.70628726 0.70643324 0.70688508 0.70628726 0.70628726\n",
      " 0.70688508 0.70628726 0.70628726 0.70688508 0.70628726 0.70651126\n",
      " 0.70688508 0.70628726 0.70628726 0.70688508 0.70628726 0.70651126\n",
      " 0.70688508 0.70628726 0.70651126 0.70688508 0.70628726 0.70610288\n",
      " 0.70688508 0.70628726 0.7062824  0.70688508 0.70628726 0.7070788\n",
      " 0.70688508 0.70628726 0.70688508 0.70688508 0.70628726 0.70688508\n",
      " 0.70688508 0.70628726 0.70628726 0.70688508 0.70628726 0.70628726\n",
      " 0.70688508 0.70628726 0.70628726 0.70688508 0.70628726 0.70651126\n",
      " 0.70688508 0.70628726 0.70628726 0.70688508 0.70628726 0.70651126\n",
      " 0.70665652 0.70628726 0.70610288 0.70688508 0.70628726 0.70610288\n",
      " 0.70688508 0.70628726 0.7062824  0.70688508 0.70628726 0.7070788\n",
      " 0.70688508 0.70628726 0.70688508]\n",
      "  warnings.warn(\n"
     ]
    },
    {
     "name": "stdout",
     "output_type": "stream",
     "text": [
      "              precision    recall  f1-score   support\n",
      "\n",
      "           0       0.91      0.73      0.81      1593\n",
      "           1       0.40      0.71      0.51       407\n",
      "\n",
      "    accuracy                           0.72      2000\n",
      "   macro avg       0.65      0.72      0.66      2000\n",
      "weighted avg       0.80      0.72      0.75      2000\n",
      "\n",
      "Wall time: 2min 5s\n"
     ]
    },
    {
     "name": "stderr",
     "output_type": "stream",
     "text": [
      "c:\\users\\sergeyz06\\appdata\\local\\programs\\python\\python39\\lib\\site-packages\\sklearn\\linear_model\\_sag.py:352: ConvergenceWarning: The max_iter was reached which means the coef_ did not converge\n",
      "  warnings.warn(\n"
     ]
    }
   ],
   "source": [
    "%%time\n",
    "\n",
    "paramns = {'penalty': ['l1', 'l2', 'elasticnet'],\n",
    "           'C': np.arange(0, 1.1, 0.1),\n",
    "           'solver': ['saga'],\n",
    "           'max_iter': [1000],\n",
    "           'l1_ratio': np.arange(0, 1.1, 0.1)}\n",
    "\n",
    "gs = GridSearchCV(estimator=LogisticRegression(),\n",
    "                 param_grid=paramns,\n",
    "                 scoring='f1',\n",
    "                 n_jobs=-1)\n",
    "\n",
    "gs.fit(X_train_p_ds, y_train_ds)\n",
    "y_pred = gs.predict(X_test_p)\n",
    "print(classification_report(y_test, y_pred))"
   ]
  },
  {
   "cell_type": "code",
   "execution_count": 95,
   "id": "8c001180",
   "metadata": {},
   "outputs": [
    {
     "data": {
      "text/plain": [
       "LogisticRegression(C=0.6000000000000001, l1_ratio=0.5, max_iter=1000,\n",
       "                   penalty='elasticnet', solver='saga')"
      ]
     },
     "execution_count": 95,
     "metadata": {},
     "output_type": "execute_result"
    }
   ],
   "source": [
    "gs.best_estimator_"
   ]
  },
  {
   "cell_type": "markdown",
   "id": "a507566f",
   "metadata": {},
   "source": [
    "##### Модель показала ещё чуть-чуть худшие резульататы, f1 = 0.72."
   ]
  },
  {
   "cell_type": "markdown",
   "id": "1cb08712",
   "metadata": {},
   "source": [
    "### Sampling - Выводы:\n",
    "\n",
    "##### Первоначальное предположение подтвердилось: модель с параметром class_weight показала наилучшие результаты, f1 = 0.77.\n",
    "##### Модели, работавшие с upsampling и downsampling, показали f1 = 0.73 и 0.72 соответственно.\n",
    "##### ИМХО, повторно убеждаюсь, что лучше использовать инструменты, разработанные умными людьми для решения конкретных проблем. Так как в данном случае учтены многие тонкости, которые самому руками реализовать не хватит знаний и сил."
   ]
  },
  {
   "cell_type": "code",
   "execution_count": null,
   "id": "c0bdd083",
   "metadata": {},
   "outputs": [],
   "source": []
  }
 ],
 "metadata": {
  "kernelspec": {
   "display_name": "Python 3 (ipykernel)",
   "language": "python",
   "name": "python3"
  },
  "language_info": {
   "codemirror_mode": {
    "name": "ipython",
    "version": 3
   },
   "file_extension": ".py",
   "mimetype": "text/x-python",
   "name": "python",
   "nbconvert_exporter": "python",
   "pygments_lexer": "ipython3",
   "version": "3.9.4"
  }
 },
 "nbformat": 4,
 "nbformat_minor": 5
}
